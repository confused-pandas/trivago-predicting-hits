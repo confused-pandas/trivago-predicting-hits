{
 "cells": [
  {
   "cell_type": "markdown",
   "metadata": {},
   "source": [
    "# Introduction\n",
    "\n",
    "This notebook presents my approach to the problem called **_\"Build a model that predicts the number of hits per session.\"_** from Trivago."
   ]
  },
  {
   "cell_type": "markdown",
   "metadata": {},
   "source": [
    "## Table of Content\n",
    "\n",
    "1. [Summary Information](#summary)\n",
    "2. [Analysis of missing values](#missing_values)\n",
    "3. [Outliers detection](#outliers_detection)\n",
    "4. [Missing values imputation](#impute_missing)\n",
    "5. [Prediction](#prediction)<br>\n",
    "   5.1 [Linear Regression](#lr)<br>\n",
    "   5.2 [Decision Tree](#dt)<br>\n",
    "   5.3 [Random Forest](#rf)<br>\n",
    "   5.4 [XGBoost](#xbg)\n",
    "6. [Evaluation](#evaluation)\n",
    "7. [Conclusion](#conclusion)"
   ]
  },
  {
   "cell_type": "code",
   "execution_count": 189,
   "metadata": {},
   "outputs": [],
   "source": [
    "from string import ascii_letters\n",
    "import pandas as pd\n",
    "import seaborn as sns\n",
    "import numpy as np\n",
    "import matplotlib.pyplot as plt\n",
    "\n",
    "pd.options.mode.chained_assignment = None "
   ]
  },
  {
   "cell_type": "markdown",
   "metadata": {},
   "source": [
    "## 1. Summary information\n",
    "<a id=\"summary\"></a>"
   ]
  },
  {
   "cell_type": "code",
   "execution_count": 190,
   "metadata": {},
   "outputs": [],
   "source": [
    "#df = pd.read_csv('datasets/case_study/ML Data Scientist Case Study Data.csv', sep=\";\")\n",
    "df = pd.read_csv('C:/Users/aghenda/Downloads/ML Data Scientist Case Study Data.csv', sep=\";\")"
   ]
  },
  {
   "cell_type": "code",
   "execution_count": 191,
   "metadata": {},
   "outputs": [],
   "source": [
    "train = df.loc[df.hits != '\\\\N'] # train set \n",
    "test = df.loc[df.hits == '\\\\N'] # test set"
   ]
  },
  {
   "cell_type": "code",
   "execution_count": 192,
   "metadata": {},
   "outputs": [
    {
     "name": "stdout",
     "output_type": "stream",
     "text": [
      "Training dataset:\n",
      "    row_num locale day_of_week  hour_of_day  agent_id  entry_page path_id_set  \\\n",
      "1   988680     L2    Thursday           22        10        2113     31965;0   \n",
      "2   988679     L4    Saturday           21         2        2100     0;78464   \n",
      "3   988678     L3    Saturday           19         8        2113       51462   \n",
      "4   988677     L2     Tuesday            6        10        2116     31931;0   \n",
      "5   988676     L3      Monday            1         8        2100           0   \n",
      "\n",
      "   traffic_type session_durantion hits  \n",
      "1             2                49   14  \n",
      "2             1              1892   14  \n",
      "3             6                 0    1  \n",
      "4             1                 2    3  \n",
      "5             1                 0    2   \n",
      " ---------------------------------------------------------------------------------------------------- \n",
      "Test dataset:\n",
      "     row_num locale day_of_week  hour_of_day  agent_id  entry_page  \\\n",
      "0    988681     L6      Monday           17         1        2111   \n",
      "15   988666     L3    Thursday           16        10        2700   \n",
      "16   988665     L4      Sunday           16        10        2113   \n",
      "17   988664     L3     Tuesday           19         6        2100   \n",
      "18   988663     L3      Friday           20        10        2111   \n",
      "\n",
      "      path_id_set  traffic_type session_durantion hits  \n",
      "0         31672;0             6              7037   \\N  \n",
      "15  0;34387;84765             1              5189   \\N  \n",
      "16        79148;0             4                 5   \\N  \n",
      "17  0;34602;34604             1              8041   \\N  \n",
      "18  34287;0;60579             2               117   \\N  \n"
     ]
    }
   ],
   "source": [
    "print('Training dataset:\\n', train.head(), '\\n','-'*100, '\\nTest dataset:\\n', test.head())"
   ]
  },
  {
   "cell_type": "code",
   "execution_count": 193,
   "metadata": {},
   "outputs": [
    {
     "name": "stdout",
     "output_type": "stream",
     "text": [
      "Number train entries: 619235 , Number test entries: 369446\n"
     ]
    }
   ],
   "source": [
    "print('Number train entries:', len(train), ', Number test entries:', len(test))"
   ]
  },
  {
   "cell_type": "code",
   "execution_count": 194,
   "metadata": {},
   "outputs": [
    {
     "name": "stdout",
     "output_type": "stream",
     "text": [
      "train column names and types:\n",
      "row_num               int64\n",
      "locale               object\n",
      "day_of_week          object\n",
      "hour_of_day           int64\n",
      "agent_id              int64\n",
      "entry_page            int64\n",
      "path_id_set          object\n",
      "traffic_type          int64\n",
      "session_durantion    object\n",
      "hits                 object\n",
      "dtype: object\n",
      "----------------------------\n",
      "test column names and types:\n",
      "row_num               int64\n",
      "locale               object\n",
      "day_of_week          object\n",
      "hour_of_day           int64\n",
      "agent_id              int64\n",
      "entry_page            int64\n",
      "path_id_set          object\n",
      "traffic_type          int64\n",
      "session_durantion    object\n",
      "hits                 object\n",
      "dtype: object\n"
     ]
    }
   ],
   "source": [
    "print('train column names and types:', train.dtypes, sep='\\n')\n",
    "print('-'*28)\n",
    "print('test column names and types:', test.dtypes, sep='\\n')"
   ]
  },
  {
   "cell_type": "code",
   "execution_count": 195,
   "metadata": {
    "scrolled": false
   },
   "outputs": [
    {
     "name": "stdout",
     "output_type": "stream",
     "text": [
      "Train data set:  \n",
      "\n",
      " row_num              619235\n",
      "locale               619235\n",
      "day_of_week          619235\n",
      "hour_of_day          619235\n",
      "agent_id             619235\n",
      "entry_page           619235\n",
      "path_id_set          616082\n",
      "traffic_type         619235\n",
      "session_durantion    619235\n",
      "hits                 619235\n",
      "dtype: int64 \n",
      "\n",
      "Test data set:  \n",
      "\n",
      " row_num              369446\n",
      "locale               369446\n",
      "day_of_week          369446\n",
      "hour_of_day          369446\n",
      "agent_id             369446\n",
      "entry_page           369446\n",
      "path_id_set          367710\n",
      "traffic_type         369446\n",
      "session_durantion    369446\n",
      "hits                 369446\n",
      "dtype: int64 \n",
      "\n"
     ]
    }
   ],
   "source": [
    "print('Train data set:  \\n\\n', train.count(), '\\n')\n",
    "print('Test data set:  \\n\\n', test.count(), '\\n')"
   ]
  },
  {
   "cell_type": "code",
   "execution_count": 196,
   "metadata": {
    "scrolled": false
   },
   "outputs": [
    {
     "name": "stdout",
     "output_type": "stream",
     "text": [
      "Columns and types :  \n",
      "\n",
      " row_num               int64\n",
      "locale               object\n",
      "day_of_week          object\n",
      "hour_of_day           int64\n",
      "agent_id              int64\n",
      "entry_page            int64\n",
      "path_id_set          object\n",
      "traffic_type          int64\n",
      "session_durantion    object\n",
      "hits                 object\n",
      "dtype: object \n",
      "\n"
     ]
    }
   ],
   "source": [
    "print('Columns and types :  \\n\\n', train.dtypes, '\\n')"
   ]
  },
  {
   "cell_type": "markdown",
   "metadata": {},
   "source": [
    "## 2. Handling missing values\n",
    "<a id=\"missing_values\"></a>"
   ]
  },
  {
   "cell_type": "code",
   "execution_count": 197,
   "metadata": {},
   "outputs": [],
   "source": [
    "# We replace missing values denoted \\N with NaN\n",
    "train.replace('\\\\N', np.nan, inplace=True)\n",
    "test.replace('\\\\N', np.nan, inplace=True)"
   ]
  },
  {
   "cell_type": "code",
   "execution_count": 198,
   "metadata": {},
   "outputs": [
    {
     "name": "stdout",
     "output_type": "stream",
     "text": [
      "All entries in train set have non-null row_num : True\n",
      "All entries in train set have non-null locale : True\n",
      "All entries in train set have non-null day_of_week : True\n",
      "All entries in train set have non-null hour_of_day : True\n",
      "All entries in train set have non-null agent_id : True\n",
      "All entries in train set have non-null entry_page : True\n",
      "All entries in train set have non-null path_id_set : False\n",
      "All entries in train set have non-null traffic_type : True\n",
      "All entries in train set have non-null session_durantion : False\n",
      "All entries in train set have non-null hits : True\n"
     ]
    }
   ],
   "source": [
    "df_columns = list(df.columns)\n",
    "for column in df_columns:\n",
    "    print('All entries in train set have non-null', column ,':', ~train[column].isnull().any())"
   ]
  },
  {
   "cell_type": "code",
   "execution_count": 199,
   "metadata": {},
   "outputs": [
    {
     "name": "stdout",
     "output_type": "stream",
     "text": [
      "All entries in test set have non-null row_num : True\n",
      "All entries in test set have non-null locale : True\n",
      "All entries in test set have non-null day_of_week : True\n",
      "All entries in test set have non-null hour_of_day : True\n",
      "All entries in test set have non-null agent_id : True\n",
      "All entries in test set have non-null entry_page : True\n",
      "All entries in test set have non-null path_id_set : False\n",
      "All entries in test set have non-null traffic_type : True\n",
      "All entries in test set have non-null session_durantion : False\n",
      "All entries in test set have non-null hits : False\n"
     ]
    }
   ],
   "source": [
    "for column in df_columns:\n",
    "    print('All entries in test set have non-null', column ,':', ~test[column].isnull().any())"
   ]
  },
  {
   "cell_type": "markdown",
   "metadata": {},
   "source": [
    "Train data set: **path_id_set** and **session_durantion** contains missing values <br>\n",
    "Test data set: **path_id_set**,  **session_durantion** and **hits** contains missing values\n",
    "\n",
    "Let's now look at the proportion of missing values."
   ]
  },
  {
   "cell_type": "code",
   "execution_count": 200,
   "metadata": {},
   "outputs": [
    {
     "name": "stdout",
     "output_type": "stream",
     "text": [
      "Percentage of missing values for feature row_num : 0.0 %\n",
      "Percentage of missing values for feature locale : 0.0 %\n",
      "Percentage of missing values for feature day_of_week : 0.0 %\n",
      "Percentage of missing values for feature hour_of_day : 0.0 %\n",
      "Percentage of missing values for feature agent_id : 0.0 %\n",
      "Percentage of missing values for feature entry_page : 0.0 %\n",
      "Percentage of missing values for feature path_id_set : 0.51 %\n",
      "Percentage of missing values for feature traffic_type : 0.0 %\n",
      "Percentage of missing values for feature session_durantion : 0.07 %\n",
      "Percentage of missing values for feature hits : 0.0 %\n"
     ]
    }
   ],
   "source": [
    "df_columns = list(df.columns)\n",
    "for column in df_columns:\n",
    "    print('Percentage of missing values for feature', column ,':', round((train[column].isnull().sum()/len(train))*100, 2), '%')"
   ]
  },
  {
   "cell_type": "code",
   "execution_count": 201,
   "metadata": {},
   "outputs": [
    {
     "name": "stdout",
     "output_type": "stream",
     "text": [
      "Percentage of missing values for feature row_num : 0.0 %\n",
      "Percentage of missing values for feature locale : 0.0 %\n",
      "Percentage of missing values for feature day_of_week : 0.0 %\n",
      "Percentage of missing values for feature hour_of_day : 0.0 %\n",
      "Percentage of missing values for feature agent_id : 0.0 %\n",
      "Percentage of missing values for feature entry_page : 0.0 %\n",
      "Percentage of missing values for feature path_id_set : 0.47 %\n",
      "Percentage of missing values for feature traffic_type : 0.0 %\n",
      "Percentage of missing values for feature session_durantion : 0.07 %\n",
      "Percentage of missing values for feature hits : 100.0 %\n"
     ]
    }
   ],
   "source": [
    "df_columns = list(df.columns)\n",
    "for column in df_columns:\n",
    "    print('Percentage of missing values for feature', column ,':', round((test[column].isnull().sum()/len(test))*100, 2), '%')"
   ]
  },
  {
   "cell_type": "markdown",
   "metadata": {},
   "source": [
    "Globally the proportions of missing values are very low for the train set. <br>\n",
    "I do not think that it is advisable to impute **path_id_set**. I don't believe this column is relevant to our analysis. The information is redundant with entry page while bringing noise. Therefore, I decide to drop the feature<br>\n",
    "For **session_durantion**, I will find a strategy to impute the missing values since they only represent 0.07%.\n",
    "\n",
    "In the test set, same observations can be made.The percentage of missing values for hits is 100% but it is normal since we split our train / test set based on these missing values."
   ]
  },
  {
   "cell_type": "code",
   "execution_count": 202,
   "metadata": {},
   "outputs": [],
   "source": [
    "train.drop(columns=['path_id_set'], inplace=True)\n",
    "test.drop(columns=['path_id_set'], inplace=True)"
   ]
  },
  {
   "cell_type": "markdown",
   "metadata": {},
   "source": [
    "### Missing values: session_duration"
   ]
  },
  {
   "cell_type": "code",
   "execution_count": 203,
   "metadata": {},
   "outputs": [
    {
     "data": {
      "text/html": [
       "<div>\n",
       "<style scoped>\n",
       "    .dataframe tbody tr th:only-of-type {\n",
       "        vertical-align: middle;\n",
       "    }\n",
       "\n",
       "    .dataframe tbody tr th {\n",
       "        vertical-align: top;\n",
       "    }\n",
       "\n",
       "    .dataframe thead th {\n",
       "        text-align: right;\n",
       "    }\n",
       "</style>\n",
       "<table border=\"1\" class=\"dataframe\">\n",
       "  <thead>\n",
       "    <tr style=\"text-align: right;\">\n",
       "      <th></th>\n",
       "      <th>row_num</th>\n",
       "      <th>locale</th>\n",
       "      <th>day_of_week</th>\n",
       "      <th>hour_of_day</th>\n",
       "      <th>agent_id</th>\n",
       "      <th>entry_page</th>\n",
       "      <th>traffic_type</th>\n",
       "      <th>session_durantion</th>\n",
       "      <th>hits</th>\n",
       "    </tr>\n",
       "  </thead>\n",
       "  <tbody>\n",
       "    <tr>\n",
       "      <th>3562</th>\n",
       "      <td>985119</td>\n",
       "      <td>L3</td>\n",
       "      <td>Monday</td>\n",
       "      <td>0</td>\n",
       "      <td>8</td>\n",
       "      <td>8101</td>\n",
       "      <td>1</td>\n",
       "      <td>NaN</td>\n",
       "      <td>1</td>\n",
       "    </tr>\n",
       "    <tr>\n",
       "      <th>9948</th>\n",
       "      <td>978733</td>\n",
       "      <td>L2</td>\n",
       "      <td>Friday</td>\n",
       "      <td>7</td>\n",
       "      <td>7</td>\n",
       "      <td>8101</td>\n",
       "      <td>1</td>\n",
       "      <td>NaN</td>\n",
       "      <td>1</td>\n",
       "    </tr>\n",
       "    <tr>\n",
       "      <th>14262</th>\n",
       "      <td>974419</td>\n",
       "      <td>L3</td>\n",
       "      <td>Saturday</td>\n",
       "      <td>18</td>\n",
       "      <td>13</td>\n",
       "      <td>8101</td>\n",
       "      <td>1</td>\n",
       "      <td>NaN</td>\n",
       "      <td>1</td>\n",
       "    </tr>\n",
       "    <tr>\n",
       "      <th>20065</th>\n",
       "      <td>968616</td>\n",
       "      <td>L6</td>\n",
       "      <td>Tuesday</td>\n",
       "      <td>16</td>\n",
       "      <td>9</td>\n",
       "      <td>8101</td>\n",
       "      <td>1</td>\n",
       "      <td>NaN</td>\n",
       "      <td>1</td>\n",
       "    </tr>\n",
       "    <tr>\n",
       "      <th>21926</th>\n",
       "      <td>966755</td>\n",
       "      <td>L3</td>\n",
       "      <td>Wednesday</td>\n",
       "      <td>4</td>\n",
       "      <td>9</td>\n",
       "      <td>8101</td>\n",
       "      <td>1</td>\n",
       "      <td>NaN</td>\n",
       "      <td>1</td>\n",
       "    </tr>\n",
       "    <tr>\n",
       "      <th>24090</th>\n",
       "      <td>964591</td>\n",
       "      <td>L3</td>\n",
       "      <td>Tuesday</td>\n",
       "      <td>3</td>\n",
       "      <td>8</td>\n",
       "      <td>8101</td>\n",
       "      <td>1</td>\n",
       "      <td>NaN</td>\n",
       "      <td>1</td>\n",
       "    </tr>\n",
       "    <tr>\n",
       "      <th>24123</th>\n",
       "      <td>964558</td>\n",
       "      <td>L2</td>\n",
       "      <td>Tuesday</td>\n",
       "      <td>11</td>\n",
       "      <td>2</td>\n",
       "      <td>8101</td>\n",
       "      <td>1</td>\n",
       "      <td>NaN</td>\n",
       "      <td>1</td>\n",
       "    </tr>\n",
       "    <tr>\n",
       "      <th>26247</th>\n",
       "      <td>962434</td>\n",
       "      <td>L2</td>\n",
       "      <td>Thursday</td>\n",
       "      <td>7</td>\n",
       "      <td>2</td>\n",
       "      <td>8101</td>\n",
       "      <td>1</td>\n",
       "      <td>NaN</td>\n",
       "      <td>1</td>\n",
       "    </tr>\n",
       "    <tr>\n",
       "      <th>26990</th>\n",
       "      <td>961691</td>\n",
       "      <td>L2</td>\n",
       "      <td>Monday</td>\n",
       "      <td>11</td>\n",
       "      <td>7</td>\n",
       "      <td>8101</td>\n",
       "      <td>1</td>\n",
       "      <td>NaN</td>\n",
       "      <td>1</td>\n",
       "    </tr>\n",
       "    <tr>\n",
       "      <th>30190</th>\n",
       "      <td>958491</td>\n",
       "      <td>L1</td>\n",
       "      <td>Wednesday</td>\n",
       "      <td>2</td>\n",
       "      <td>8</td>\n",
       "      <td>8101</td>\n",
       "      <td>1</td>\n",
       "      <td>NaN</td>\n",
       "      <td>1</td>\n",
       "    </tr>\n",
       "  </tbody>\n",
       "</table>\n",
       "</div>"
      ],
      "text/plain": [
       "       row_num locale day_of_week  hour_of_day  agent_id  entry_page  \\\n",
       "3562    985119     L3      Monday            0         8        8101   \n",
       "9948    978733     L2      Friday            7         7        8101   \n",
       "14262   974419     L3    Saturday           18        13        8101   \n",
       "20065   968616     L6     Tuesday           16         9        8101   \n",
       "21926   966755     L3   Wednesday            4         9        8101   \n",
       "24090   964591     L3     Tuesday            3         8        8101   \n",
       "24123   964558     L2     Tuesday           11         2        8101   \n",
       "26247   962434     L2    Thursday            7         2        8101   \n",
       "26990   961691     L2      Monday           11         7        8101   \n",
       "30190   958491     L1   Wednesday            2         8        8101   \n",
       "\n",
       "       traffic_type session_durantion hits  \n",
       "3562              1               NaN    1  \n",
       "9948              1               NaN    1  \n",
       "14262             1               NaN    1  \n",
       "20065             1               NaN    1  \n",
       "21926             1               NaN    1  \n",
       "24090             1               NaN    1  \n",
       "24123             1               NaN    1  \n",
       "26247             1               NaN    1  \n",
       "26990             1               NaN    1  \n",
       "30190             1               NaN    1  "
      ]
     },
     "execution_count": 203,
     "metadata": {},
     "output_type": "execute_result"
    }
   ],
   "source": [
    "# Let's have a quick look at the rows for which session_durantion is missing.\n",
    "train[train.session_durantion.isnull()].head(10)"
   ]
  },
  {
   "cell_type": "code",
   "execution_count": 204,
   "metadata": {},
   "outputs": [
    {
     "data": {
      "text/html": [
       "<div>\n",
       "<style scoped>\n",
       "    .dataframe tbody tr th:only-of-type {\n",
       "        vertical-align: middle;\n",
       "    }\n",
       "\n",
       "    .dataframe tbody tr th {\n",
       "        vertical-align: top;\n",
       "    }\n",
       "\n",
       "    .dataframe thead th {\n",
       "        text-align: right;\n",
       "    }\n",
       "</style>\n",
       "<table border=\"1\" class=\"dataframe\">\n",
       "  <thead>\n",
       "    <tr style=\"text-align: right;\">\n",
       "      <th></th>\n",
       "      <th>row_num</th>\n",
       "      <th>locale</th>\n",
       "      <th>day_of_week</th>\n",
       "      <th>hour_of_day</th>\n",
       "      <th>agent_id</th>\n",
       "      <th>entry_page</th>\n",
       "      <th>traffic_type</th>\n",
       "      <th>session_durantion</th>\n",
       "      <th>hits</th>\n",
       "    </tr>\n",
       "  </thead>\n",
       "  <tbody>\n",
       "    <tr>\n",
       "      <th>1153</th>\n",
       "      <td>987528</td>\n",
       "      <td>L3</td>\n",
       "      <td>Thursday</td>\n",
       "      <td>0</td>\n",
       "      <td>0</td>\n",
       "      <td>2226</td>\n",
       "      <td>1</td>\n",
       "      <td>NaN</td>\n",
       "      <td>NaN</td>\n",
       "    </tr>\n",
       "    <tr>\n",
       "      <th>5171</th>\n",
       "      <td>983510</td>\n",
       "      <td>L6</td>\n",
       "      <td>Friday</td>\n",
       "      <td>15</td>\n",
       "      <td>6</td>\n",
       "      <td>8101</td>\n",
       "      <td>1</td>\n",
       "      <td>NaN</td>\n",
       "      <td>NaN</td>\n",
       "    </tr>\n",
       "    <tr>\n",
       "      <th>5349</th>\n",
       "      <td>983332</td>\n",
       "      <td>L2</td>\n",
       "      <td>Friday</td>\n",
       "      <td>19</td>\n",
       "      <td>7</td>\n",
       "      <td>8101</td>\n",
       "      <td>1</td>\n",
       "      <td>NaN</td>\n",
       "      <td>NaN</td>\n",
       "    </tr>\n",
       "    <tr>\n",
       "      <th>5563</th>\n",
       "      <td>983118</td>\n",
       "      <td>L3</td>\n",
       "      <td>Tuesday</td>\n",
       "      <td>14</td>\n",
       "      <td>9</td>\n",
       "      <td>8101</td>\n",
       "      <td>1</td>\n",
       "      <td>NaN</td>\n",
       "      <td>NaN</td>\n",
       "    </tr>\n",
       "    <tr>\n",
       "      <th>7816</th>\n",
       "      <td>980865</td>\n",
       "      <td>L1</td>\n",
       "      <td>Saturday</td>\n",
       "      <td>6</td>\n",
       "      <td>6</td>\n",
       "      <td>8101</td>\n",
       "      <td>1</td>\n",
       "      <td>NaN</td>\n",
       "      <td>NaN</td>\n",
       "    </tr>\n",
       "    <tr>\n",
       "      <th>9351</th>\n",
       "      <td>979330</td>\n",
       "      <td>L1</td>\n",
       "      <td>Sunday</td>\n",
       "      <td>14</td>\n",
       "      <td>7</td>\n",
       "      <td>8101</td>\n",
       "      <td>1</td>\n",
       "      <td>NaN</td>\n",
       "      <td>NaN</td>\n",
       "    </tr>\n",
       "    <tr>\n",
       "      <th>12791</th>\n",
       "      <td>975890</td>\n",
       "      <td>L6</td>\n",
       "      <td>Sunday</td>\n",
       "      <td>15</td>\n",
       "      <td>8</td>\n",
       "      <td>8101</td>\n",
       "      <td>1</td>\n",
       "      <td>NaN</td>\n",
       "      <td>NaN</td>\n",
       "    </tr>\n",
       "    <tr>\n",
       "      <th>15200</th>\n",
       "      <td>973481</td>\n",
       "      <td>L3</td>\n",
       "      <td>Saturday</td>\n",
       "      <td>15</td>\n",
       "      <td>9</td>\n",
       "      <td>8101</td>\n",
       "      <td>1</td>\n",
       "      <td>NaN</td>\n",
       "      <td>NaN</td>\n",
       "    </tr>\n",
       "    <tr>\n",
       "      <th>32428</th>\n",
       "      <td>956253</td>\n",
       "      <td>L3</td>\n",
       "      <td>Tuesday</td>\n",
       "      <td>0</td>\n",
       "      <td>9</td>\n",
       "      <td>8101</td>\n",
       "      <td>1</td>\n",
       "      <td>NaN</td>\n",
       "      <td>NaN</td>\n",
       "    </tr>\n",
       "    <tr>\n",
       "      <th>33574</th>\n",
       "      <td>955107</td>\n",
       "      <td>L6</td>\n",
       "      <td>Wednesday</td>\n",
       "      <td>9</td>\n",
       "      <td>9</td>\n",
       "      <td>8101</td>\n",
       "      <td>1</td>\n",
       "      <td>NaN</td>\n",
       "      <td>NaN</td>\n",
       "    </tr>\n",
       "  </tbody>\n",
       "</table>\n",
       "</div>"
      ],
      "text/plain": [
       "       row_num locale day_of_week  hour_of_day  agent_id  entry_page  \\\n",
       "1153    987528     L3    Thursday            0         0        2226   \n",
       "5171    983510     L6      Friday           15         6        8101   \n",
       "5349    983332     L2      Friday           19         7        8101   \n",
       "5563    983118     L3     Tuesday           14         9        8101   \n",
       "7816    980865     L1    Saturday            6         6        8101   \n",
       "9351    979330     L1      Sunday           14         7        8101   \n",
       "12791   975890     L6      Sunday           15         8        8101   \n",
       "15200   973481     L3    Saturday           15         9        8101   \n",
       "32428   956253     L3     Tuesday            0         9        8101   \n",
       "33574   955107     L6   Wednesday            9         9        8101   \n",
       "\n",
       "       traffic_type session_durantion  hits  \n",
       "1153              1               NaN   NaN  \n",
       "5171              1               NaN   NaN  \n",
       "5349              1               NaN   NaN  \n",
       "5563              1               NaN   NaN  \n",
       "7816              1               NaN   NaN  \n",
       "9351              1               NaN   NaN  \n",
       "12791             1               NaN   NaN  \n",
       "15200             1               NaN   NaN  \n",
       "32428             1               NaN   NaN  \n",
       "33574             1               NaN   NaN  "
      ]
     },
     "execution_count": 204,
     "metadata": {},
     "output_type": "execute_result"
    }
   ],
   "source": [
    "test[test.session_durantion.isnull()].head(10)"
   ]
  },
  {
   "cell_type": "markdown",
   "metadata": {},
   "source": [
    "A first observation we can make is that it seems to particularly concern the entry page 8101, the traffic_type 1 and the path_id_set is 0. But let's dig more into that to understand what's happening."
   ]
  },
  {
   "cell_type": "code",
   "execution_count": 205,
   "metadata": {},
   "outputs": [
    {
     "data": {
      "text/plain": [
       "<matplotlib.axes._subplots.AxesSubplot at 0x25605cb6780>"
      ]
     },
     "execution_count": 205,
     "metadata": {},
     "output_type": "execute_result"
    },
    {
     "data": {
      "image/png": "[encoded data removed]",
      "text/plain": [
       "<Figure size 1080x360 with 2 Axes>"
      ]
     },
     "metadata": {
      "needs_background": "light"
     },
     "output_type": "display_data"
    }
   ],
   "source": [
    "f, ax = plt.subplots(1,2, figsize=(15,5))\n",
    "train[train.session_durantion.isnull()].entry_page.value_counts().plot('bar', ax=ax[0], color='#007faf', legend=True, title='#Rows / Entry page (train set missing values: session_duration)')\n",
    "test[test.session_durantion.isnull()].entry_page.value_counts().plot('bar', ax=ax[1], legend=True, title='#Rows / Entry page (test set missing values: session_duration)')"
   ]
  },
  {
   "cell_type": "markdown",
   "metadata": {},
   "source": [
    "Now it is obvious that there is a problem with the entry page 8101."
   ]
  },
  {
   "cell_type": "code",
   "execution_count": 206,
   "metadata": {},
   "outputs": [
    {
     "name": "stdout",
     "output_type": "stream",
     "text": [
      "Train set: Traffic type for which the session_duration is missing: [1]\n",
      "Test set: Traffic type for which the session_duration is missing: [1]\n"
     ]
    }
   ],
   "source": [
    "print('Train set: Traffic type for which the session_duration is missing:', train[train.session_durantion.isnull()].traffic_type.unique())\n",
    "print('Test set: Traffic type for which the session_duration is missing:', test[test.session_durantion.isnull()].traffic_type.unique())"
   ]
  },
  {
   "cell_type": "code",
   "execution_count": 207,
   "metadata": {},
   "outputs": [
    {
     "name": "stdout",
     "output_type": "stream",
     "text": [
      "Train set: proportion of rows with entry page 8101 and traffic type 1 concerned by the absence of session_durantion: 98.09 %\n",
      "Test set: proportion of rows with entry page 8101 and traffic type 1 concerned by the absence of session_durantion: 99.21 %\n"
     ]
    }
   ],
   "source": [
    "print('Train set: proportion of rows with entry page 8101 and traffic type 1 concerned by the absence of session_durantion:', round(len(train[(train['session_durantion'].isnull()) & (train.entry_page == 8101) & (train.traffic_type == 1)])/len(train[(train.entry_page == 8101)])*100, 2), '%')\n",
    "print('Test set: proportion of rows with entry page 8101 and traffic type 1 concerned by the absence of session_durantion:', round(len(test[(test['session_durantion'].isnull()) & (test.entry_page == 8101) & (test.traffic_type == 1)])/len(test[(test.entry_page == 8101)])*100, 2), '%')"
   ]
  },
  {
   "cell_type": "markdown",
   "metadata": {},
   "source": [
    "Traffic type 1 is the only one concerned by the missing values. I believe that there might be a problem with the entry page 8101 from the traffic type 1. I would crosscheck that with the web dev team to have more information. \n",
    "\n",
    "Now we want to input the missing values. However, the distribution of data is not normal and there are values that we believe are outliers. We will first deal with them before we use statistical measures to input the missing values."
   ]
  },
  {
   "cell_type": "markdown",
   "metadata": {},
   "source": [
    "## 3. Outliers detection\n",
    "<a id=\"outliers_detection\"></a>"
   ]
  },
  {
   "cell_type": "markdown",
   "metadata": {},
   "source": [
    "### Z-score"
   ]
  },
  {
   "cell_type": "code",
   "execution_count": 208,
   "metadata": {},
   "outputs": [],
   "source": [
    "def zscore(series, threshold=3):\n",
    "    z_score = (series-np.mean(series))/np.std(series)\n",
    "    return np.abs(z_score) > threshold"
   ]
  },
  {
   "cell_type": "markdown",
   "metadata": {},
   "source": [
    "### Modified Z-score"
   ]
  },
  {
   "cell_type": "code",
   "execution_count": 209,
   "metadata": {},
   "outputs": [],
   "source": [
    "def modified_zscore(series, threshold=3):\n",
    "    modified_z_score = 0.6745*(series-np.median(series))/series.mad()\n",
    "    return np.abs(modified_z_score) > threshold"
   ]
  },
  {
   "cell_type": "markdown",
   "metadata": {},
   "source": [
    "### Isolation forest"
   ]
  },
  {
   "cell_type": "code",
   "execution_count": 210,
   "metadata": {},
   "outputs": [],
   "source": [
    "from sklearn.ensemble import IsolationForest"
   ]
  },
  {
   "cell_type": "code",
   "execution_count": 211,
   "metadata": {},
   "outputs": [],
   "source": [
    "def isolation_forest(series):\n",
    "    clf = IsolationForest(behaviour='new', contamination='auto', random_state=0)\n",
    "    series = series.values.reshape(-1, 1)\n",
    "    clf.fit(series)\n",
    "    return clf.predict(series)"
   ]
  },
  {
   "cell_type": "markdown",
   "metadata": {},
   "source": [
    "### Comparing outliers detection techniques"
   ]
  },
  {
   "cell_type": "code",
   "execution_count": 212,
   "metadata": {},
   "outputs": [],
   "source": [
    "def get_proportion(series, inf, sup):\n",
    "    return round((len(series[(series > inf) & (series < sup)]) / len(series))*100, 2)"
   ]
  },
  {
   "cell_type": "code",
   "execution_count": 213,
   "metadata": {},
   "outputs": [],
   "source": [
    "def outlier_print(title, inliers, series):\n",
    "    print('Outlier detection: {} identified outliers outside of the range [{}, {}]. Resulting outlier proportion: {}%.'.format(title, round(min(inliers)), round(max(inliers)), get_proportion(series, max(inliers), max(series)+1)))"
   ]
  },
  {
   "cell_type": "code",
   "execution_count": 214,
   "metadata": {},
   "outputs": [],
   "source": [
    "def outliers_detection(series):\n",
    "    inliers_zscore = series[~zscore(series)]\n",
    "    outlier_print('Z-Score', inliers_zscore, series)\n",
    "    inliers_modified_zscore = series[~modified_zscore(series)]\n",
    "    outlier_print('Modified Z-Score', inliers_modified_zscore, series)\n",
    "    inliers_isolation_forest = series[isolation_forest(series) == 1]\n",
    "    outlier_print('Isolation Forest', inliers_isolation_forest, series)"
   ]
  },
  {
   "cell_type": "code",
   "execution_count": 215,
   "metadata": {},
   "outputs": [],
   "source": [
    "# I exclude the missing values to find the outliers\n",
    "train_without_missing_session = train[~train.session_durantion.isnull()]\n",
    "test_without_missing_session = test[~test.session_durantion.isnull()]"
   ]
  },
  {
   "cell_type": "code",
   "execution_count": 216,
   "metadata": {},
   "outputs": [],
   "source": [
    "train_without_missing_session.session_durantion = train_without_missing_session.session_durantion.astype('int')\n",
    "train_without_missing_session.hits = train_without_missing_session.hits.astype('int')\n",
    "\n",
    "test_without_missing_session.session_durantion = test_without_missing_session.session_durantion.astype('int')"
   ]
  },
  {
   "cell_type": "code",
   "execution_count": 217,
   "metadata": {},
   "outputs": [
    {
     "data": {
      "text/plain": [
       "row_num               int64\n",
       "locale               object\n",
       "day_of_week          object\n",
       "hour_of_day           int64\n",
       "agent_id              int64\n",
       "entry_page            int64\n",
       "traffic_type          int64\n",
       "session_durantion     int32\n",
       "hits                  int32\n",
       "dtype: object"
      ]
     },
     "execution_count": 217,
     "metadata": {},
     "output_type": "execute_result"
    }
   ],
   "source": [
    "train_without_missing_session.dtypes"
   ]
  },
  {
   "cell_type": "code",
   "execution_count": 218,
   "metadata": {},
   "outputs": [
    {
     "data": {
      "text/plain": [
       "row_num                int64\n",
       "locale                object\n",
       "day_of_week           object\n",
       "hour_of_day            int64\n",
       "agent_id               int64\n",
       "entry_page             int64\n",
       "traffic_type           int64\n",
       "session_durantion      int32\n",
       "hits                 float64\n",
       "dtype: object"
      ]
     },
     "execution_count": 218,
     "metadata": {},
     "output_type": "execute_result"
    }
   ],
   "source": [
    "test_without_missing_session.dtypes"
   ]
  },
  {
   "cell_type": "markdown",
   "metadata": {},
   "source": [
    "##### Outliers detection: Session duration"
   ]
  },
  {
   "cell_type": "code",
   "execution_count": 219,
   "metadata": {},
   "outputs": [
    {
     "name": "stdout",
     "output_type": "stream",
     "text": [
      "Outlier detection: Z-Score identified outliers outside of the range [0, 6392]. Resulting outlier proportion: 0.66%.\n",
      "Outlier detection: Modified Z-Score identified outliers outside of the range [0, 3016]. Resulting outlier proportion: 3.29%.\n",
      "Outlier detection: Isolation Forest identified outliers outside of the range [0, 630]. Resulting outlier proportion: 16.85%.\n"
     ]
    }
   ],
   "source": [
    "# Outliers detection of session duration in the train set\n",
    "outliers_detection(train_without_missing_session.session_durantion)"
   ]
  },
  {
   "cell_type": "code",
   "execution_count": 220,
   "metadata": {},
   "outputs": [
    {
     "name": "stdout",
     "output_type": "stream",
     "text": [
      "Outlier detection: Z-Score identified outliers outside of the range [0, 6020]. Resulting outlier proportion: 0.71%.\n",
      "Outlier detection: Modified Z-Score identified outliers outside of the range [0, 2963]. Resulting outlier proportion: 3.4%.\n",
      "Outlier detection: Isolation Forest identified outliers outside of the range [0, 507]. Resulting outlier proportion: 19.33%.\n"
     ]
    }
   ],
   "source": [
    "# Outliers detection of session duration in the test set\n",
    "outliers_detection(test_without_missing_session.session_durantion)"
   ]
  },
  {
   "cell_type": "markdown",
   "metadata": {},
   "source": [
    "##### Outliers detection: Hits"
   ]
  },
  {
   "cell_type": "code",
   "execution_count": 221,
   "metadata": {
    "scrolled": true
   },
   "outputs": [
    {
     "name": "stdout",
     "output_type": "stream",
     "text": [
      "Outlier detection: Z-Score identified outliers outside of the range [1, 135]. Resulting outlier proportion: 1.43%.\n",
      "Outlier detection: Modified Z-Score identified outliers outside of the range [1, 86]. Resulting outlier proportion: 3.21%.\n",
      "Outlier detection: Isolation Forest identified outliers outside of the range [1, 32]. Resulting outlier proportion: 13.81%.\n"
     ]
    }
   ],
   "source": [
    "# Outliers detection of hits in the train set only\n",
    "outliers_detection(train_without_missing_session.hits)"
   ]
  },
  {
   "cell_type": "markdown",
   "metadata": {},
   "source": [
    "We will use the Z-score that has the lowest proportion and drop the outliers."
   ]
  },
  {
   "cell_type": "code",
   "execution_count": 222,
   "metadata": {},
   "outputs": [],
   "source": [
    "def drop_outliers(df, column, mode=1):\n",
    "    \"\"\" mode:\n",
    "                1: Z-Score\n",
    "                2: Modified Z-Score\n",
    "                else: Isolation Forest\n",
    "    \"\"\"\n",
    "    if mode == 1:\n",
    "        inliers_zscore = df[column][~zscore(df[column])]\n",
    "        max_inliers = round(max(inliers_zscore))\n",
    "        df = df[df[column] < max_inliers] \n",
    "    elif mode == 2:\n",
    "        inliers_modified_zscore = df[column][~modified_zscore(df[column])]\n",
    "        max_inliers = round(max(inliers_modified_zscore))\n",
    "        df = df[df[column] < max_inliers] \n",
    "    else:\n",
    "        inliers_isolation_forest = df[column][isolation_forest(df[column]) == 1]\n",
    "        max_inliers = round(max(inliers_isolation_forest))\n",
    "        df = df[df[column] < max_inliers]    \n",
    "    return df"
   ]
  },
  {
   "cell_type": "code",
   "execution_count": 223,
   "metadata": {
    "scrolled": true
   },
   "outputs": [],
   "source": [
    "train_without_missing_session = drop_outliers(train_without_missing_session, 'session_durantion', mode=1)"
   ]
  },
  {
   "cell_type": "code",
   "execution_count": 224,
   "metadata": {},
   "outputs": [],
   "source": [
    "train_without_missing_session = drop_outliers(train_without_missing_session, 'hits', mode=1)"
   ]
  },
  {
   "cell_type": "code",
   "execution_count": 225,
   "metadata": {
    "scrolled": true
   },
   "outputs": [
    {
     "data": {
      "text/plain": [
       "605300"
      ]
     },
     "execution_count": 225,
     "metadata": {},
     "output_type": "execute_result"
    }
   ],
   "source": [
    "len(train_without_missing_session)"
   ]
  },
  {
   "cell_type": "code",
   "execution_count": 226,
   "metadata": {},
   "outputs": [],
   "source": [
    "# I concatenate missing sessions with the data set from which I removed outliers\n",
    "train_only_missing_session = train[train.session_durantion.isnull()]\n",
    "train = pd.concat([train_without_missing_session, train_only_missing_session])"
   ]
  },
  {
   "cell_type": "code",
   "execution_count": 227,
   "metadata": {},
   "outputs": [],
   "source": [
    "test_only_missing_session = test[test.session_durantion.isnull()]\n",
    "test = pd.concat([test_without_missing_session, test_only_missing_session])"
   ]
  },
  {
   "cell_type": "markdown",
   "metadata": {},
   "source": [
    "## 4. Missing values imputation\n",
    "<a id=\"impute_missing\"></a>"
   ]
  },
  {
   "cell_type": "markdown",
   "metadata": {},
   "source": [
    "### Feature: Session duration"
   ]
  },
  {
   "cell_type": "code",
   "execution_count": 229,
   "metadata": {
    "scrolled": false
   },
   "outputs": [
    {
     "name": "stderr",
     "output_type": "stream",
     "text": [
      "C:\\Users\\aghenda\\AppData\\Roaming\\Python\\Python37\\site-packages\\scipy\\stats\\stats.py:1713: FutureWarning: Using a non-tuple sequence for multidimensional indexing is deprecated; use `arr[tuple(seq)]` instead of `arr[seq]`. In the future this will be interpreted as an array index, `arr[np.array(seq)]`, which will result either in an error or a different result.\n",
      "  return np.add.reduce(sorted[indexer] * weights, axis=axis) / sumval\n"
     ]
    },
    {
     "data": {
      "text/plain": [
       "<matplotlib.axes._subplots.AxesSubplot at 0x25607472eb8>"
      ]
     },
     "execution_count": 229,
     "metadata": {},
     "output_type": "execute_result"
    },
    {
     "data": {
      "image/png": "[encoded data removed]",
      "text/plain": [
       "<Figure size 1080x360 with 2 Axes>"
      ]
     },
     "metadata": {
      "needs_background": "light"
     },
     "output_type": "display_data"
    }
   ],
   "source": [
    "f, axes = plt.subplots(1, 2, figsize=(15,5))\n",
    "\n",
    "sns.violinplot(train[~train.session_durantion.isnull()].session_durantion.astype('int32'), ax=axes[0])\n",
    "sns.distplot(train[~train.session_durantion.isnull()].session_durantion.astype('int32'), ax=axes[1])"
   ]
  },
  {
   "cell_type": "markdown",
   "metadata": {},
   "source": [
    "By looking at the boxplot and the distplot, we can make two observations:\n",
    "\n",
    "1. Feature session_durantion is very skewed.\n",
    "2. The majority of the data is concentrated between 0-1000\n",
    "\n",
    "It makes me think that I could use a median imputation strategy.\n",
    "Also, due to the right-skewness, I believe that the data needs to be transformed with a log transformation."
   ]
  },
  {
   "cell_type": "markdown",
   "metadata": {},
   "source": [
    "Now let's have a look after we apply a log transformation : $$f(x) = log(x+1)$$"
   ]
  },
  {
   "cell_type": "code",
   "execution_count": 230,
   "metadata": {},
   "outputs": [
    {
     "data": {
      "text/plain": [
       "<matplotlib.axes._subplots.AxesSubplot at 0x25660ba6358>"
      ]
     },
     "execution_count": 230,
     "metadata": {},
     "output_type": "execute_result"
    },
    {
     "data": {
      "image/png": "[encoded data removed]",
      "text/plain": [
       "<Figure size 1080x360 with 2 Axes>"
      ]
     },
     "metadata": {
      "needs_background": "light"
     },
     "output_type": "display_data"
    }
   ],
   "source": [
    "f, axes = plt.subplots(1, 2, figsize=(15,5))\n",
    "\n",
    "sns.violinplot(train[~train.session_durantion.isnull()].session_durantion.astype('int32').apply(np.log1p), ax=axes[0])\n",
    "sns.distplot(train[~train.session_durantion.isnull()].session_durantion.astype('int32').apply(np.log1p), ax=axes[1])"
   ]
  },
  {
   "cell_type": "code",
   "execution_count": 231,
   "metadata": {},
   "outputs": [],
   "source": [
    "# Median imputation\n",
    "train.session_durantion.replace(np.nan, train.session_durantion.median(), inplace=True)\n",
    "test.session_durantion.replace(np.nan, test.session_durantion.median(), inplace=True)"
   ]
  },
  {
   "cell_type": "code",
   "execution_count": 233,
   "metadata": {},
   "outputs": [
    {
     "name": "stdout",
     "output_type": "stream",
     "text": [
      "All entries in train set have non-null row_num : True\n",
      "All entries in train set have non-null locale : True\n",
      "All entries in train set have non-null day_of_week : True\n",
      "All entries in train set have non-null hour_of_day : True\n",
      "All entries in train set have non-null agent_id : True\n",
      "All entries in train set have non-null entry_page : True\n",
      "All entries in train set have non-null traffic_type : True\n",
      "All entries in train set have non-null session_durantion : True\n",
      "All entries in train set have non-null hits : True\n"
     ]
    }
   ],
   "source": [
    "train_columns = list(train.columns)\n",
    "for column in train_columns:\n",
    "    print('All entries in train set have non-null', column ,':', ~train[column].isnull().any())"
   ]
  },
  {
   "cell_type": "code",
   "execution_count": 234,
   "metadata": {},
   "outputs": [
    {
     "name": "stdout",
     "output_type": "stream",
     "text": [
      "All entries in test set have non-null row_num : True\n",
      "All entries in test set have non-null locale : True\n",
      "All entries in test set have non-null day_of_week : True\n",
      "All entries in test set have non-null hour_of_day : True\n",
      "All entries in test set have non-null agent_id : True\n",
      "All entries in test set have non-null entry_page : True\n",
      "All entries in test set have non-null traffic_type : True\n",
      "All entries in test set have non-null session_durantion : True\n",
      "All entries in test set have non-null hits : False\n"
     ]
    }
   ],
   "source": [
    "test_columns = list(test.columns)\n",
    "for column in test_columns:\n",
    "    print('All entries in test set have non-null', column ,':', ~test[column].isnull().any())"
   ]
  },
  {
   "cell_type": "markdown",
   "metadata": {},
   "source": [
    "A part from hits in the test set, all the entries have non-null values."
   ]
  },
  {
   "cell_type": "markdown",
   "metadata": {},
   "source": [
    "## 5. Prediction\n",
    "<a id=\"prediction\"></a>"
   ]
  },
  {
   "cell_type": "code",
   "execution_count": 236,
   "metadata": {},
   "outputs": [],
   "source": [
    "from sklearn.model_selection import KFold, GridSearchCV, RandomizedSearchCV, train_test_split\n",
    "from sklearn.pipeline import Pipeline\n",
    "from sklearn.compose import ColumnTransformer\n",
    "from sklearn.preprocessing import StandardScaler, MinMaxScaler, RobustScaler, OneHotEncoder, FunctionTransformer\n",
    "from sklearn.decomposition import TruncatedSVD\n",
    "from sklearn.base import clone, TransformerMixin\n",
    "from sklearn.linear_model import LinearRegression\n",
    "from sklearn.compose import ColumnTransformer, make_column_transformer\n",
    "from sklearn.metrics import make_scorer"
   ]
  },
  {
   "cell_type": "code",
   "execution_count": 41,
   "metadata": {},
   "outputs": [],
   "source": [
    "from sklearn.metrics import mean_squared_error\n",
    "from math import sqrt\n",
    "\n",
    "def root_mean_squared_error(y_actual, y_pred):\n",
    "    rmse = sqrt(mean_squared_error(y_actual, y_pred))\n",
    "    return rmse"
   ]
  },
  {
   "cell_type": "code",
   "execution_count": 45,
   "metadata": {},
   "outputs": [],
   "source": [
    "models_scores = {}"
   ]
  },
  {
   "cell_type": "markdown",
   "metadata": {},
   "source": [
    "### 5.1 Linear Regression\n",
    "<a id=\"lr\"></a>"
   ]
  },
  {
   "cell_type": "code",
   "execution_count": 78,
   "metadata": {},
   "outputs": [],
   "source": [
    "def linear_regression_1(df, n_folds):\n",
    "    print('Model 1: Standard Scaler + Linear Regression')\n",
    "    numeric_features = ['session_durantion']\n",
    "    categorical_features = ['locale', 'hour_of_day', 'day_of_week', 'agent_id', 'entry_page', 'traffic_type']\n",
    "\n",
    "    numeric_transformer = Pipeline(steps=[\n",
    "        ('standard', StandardScaler())])\n",
    "    \n",
    "    categorical_transformer = Pipeline(steps=[\n",
    "    ('onehot', OneHotEncoder(handle_unknown='ignore')),\n",
    "    ])\n",
    "    \n",
    "    preprocessor = ColumnTransformer(\n",
    "    transformers=[\n",
    "        ('num', numeric_transformer, numeric_features),\n",
    "        ('cat', categorical_transformer, categorical_features)])\n",
    "    \n",
    "    clf = Pipeline(steps=[('preprocessor', preprocessor),\n",
    "                      ('linear_regression', LinearRegression())])\n",
    "    \n",
    "    X = df.drop(columns=['row_num', 'hits'])\n",
    "    y = df['hits']\n",
    "    \n",
    "    \n",
    "    kf = KFold(n_splits=n_folds)\n",
    "    kf.get_n_splits(X)\n",
    "    \n",
    "    rmse_kfold_test = []\n",
    "    rmse_kfold_train = []\n",
    "    for train_index, test_index in kf.split(X,y):\n",
    "        #print(\"TRAIN:\", train_index, \"TEST:\", test_index)\n",
    "        X_train, X_test = X.iloc[train_index], X.iloc[test_index]\n",
    "        y_train, y_test = y.iloc[train_index], y.iloc[test_index]\n",
    "        clf.fit(X_train, y_train)\n",
    "        y_pred_test = clf.predict(X_test)\n",
    "        y_pred_train = clf.predict(X_train)\n",
    "        rmse_kfold_test.append(root_mean_squared_error(y_test, np.round(np.maximum(y_pred_test, 0))))\n",
    "        rmse_kfold_train.append(root_mean_squared_error(y_train, np.round(np.maximum(y_pred_train, 0))))\n",
    "        \n",
    "    avg_rmse_kfold_train = sum(rmse_kfold_train) / len(rmse_kfold_train)\n",
    "    avg_rmse_kfold_test = sum(rmse_kfold_test) / len(rmse_kfold_test)\n",
    "    \n",
    "    print('RMSE train:', avg_rmse_kfold_train)\n",
    "    print('RMSE test:', avg_rmse_kfold_test)\n",
    "    \n",
    "    return avg_rmse_kfold_test"
   ]
  },
  {
   "cell_type": "code",
   "execution_count": 79,
   "metadata": {},
   "outputs": [
    {
     "name": "stdout",
     "output_type": "stream",
     "text": [
      "Model 1: Standard Scaler + Linear Regression\n",
      "RMSE train: 15.70668993180146\n",
      "RMSE test: 15.71377748321334\n"
     ]
    }
   ],
   "source": [
    "models_scores['model_1'] = linear_regression_1(train, 5)"
   ]
  },
  {
   "cell_type": "code",
   "execution_count": 81,
   "metadata": {},
   "outputs": [],
   "source": [
    "def linear_regression_2(df, n_folds):\n",
    "    print('Model 2: MinMax Scaler + Linear Regression')\n",
    "    numeric_features = ['session_durantion']\n",
    "    categorical_features = ['locale', 'hour_of_day', 'day_of_week', 'agent_id', 'entry_page', 'traffic_type']\n",
    "\n",
    "    numeric_transformer = Pipeline(steps=[\n",
    "        ('minmax', MinMaxScaler())])\n",
    "    \n",
    "    categorical_transformer = Pipeline(steps=[\n",
    "    ('onehot', OneHotEncoder(handle_unknown='ignore'))])\n",
    "    \n",
    "    preprocessor = ColumnTransformer(\n",
    "    transformers=[\n",
    "        ('num', numeric_transformer, numeric_features),\n",
    "        ('cat', categorical_transformer, categorical_features)])\n",
    "    \n",
    "    clf = Pipeline(steps=[('preprocessor', preprocessor),\n",
    "                      ('linear_regression', LinearRegression())])\n",
    "    \n",
    "    X = df.drop(columns=['row_num', 'hits'])\n",
    "    y = df['hits']\n",
    "    \n",
    "    kf = KFold(n_splits=n_folds)\n",
    "    kf.get_n_splits(X)\n",
    "    \n",
    "    rmse_kfold_test = []\n",
    "    rmse_kfold_train = []\n",
    "    for train_index, test_index in kf.split(X,y):\n",
    "        #print(\"TRAIN:\", train_index, \"TEST:\", test_index)\n",
    "        X_train, X_test = X.iloc[train_index], X.iloc[test_index]\n",
    "        y_train, y_test = y.iloc[train_index], y.iloc[test_index]\n",
    "        clf.fit(X_train, y_train)\n",
    "        y_pred_test = clf.predict(X_test)\n",
    "        y_pred_train = clf.predict(X_train)\n",
    "        rmse_kfold_test.append(root_mean_squared_error(y_test, np.round(np.maximum(y_pred_test, 0))))\n",
    "        rmse_kfold_train.append(root_mean_squared_error(y_train, np.round(np.maximum(y_pred_train, 0))))\n",
    "        \n",
    "    avg_rmse_kfold_train = sum(rmse_kfold_train) / len(rmse_kfold_train)\n",
    "    avg_rmse_kfold_test = sum(rmse_kfold_test) / len(rmse_kfold_test)\n",
    "    \n",
    "    print('RMSE train:', avg_rmse_kfold_train)\n",
    "    print('RMSE test:', avg_rmse_kfold_test)\n",
    "    \n",
    "    return avg_rmse_kfold_test\n",
    "    "
   ]
  },
  {
   "cell_type": "code",
   "execution_count": 82,
   "metadata": {},
   "outputs": [
    {
     "name": "stdout",
     "output_type": "stream",
     "text": [
      "Model 2: MinMax Scaler + Linear Regression\n",
      "RMSE train: 15.706691036575114\n",
      "RMSE test: 15.713836400828859\n"
     ]
    }
   ],
   "source": [
    "models_scores['model_2'] = linear_regression_2(train, 5)"
   ]
  },
  {
   "cell_type": "code",
   "execution_count": 83,
   "metadata": {},
   "outputs": [],
   "source": [
    "def linear_regression_3(df, n_folds):\n",
    "    print('Model 3: Robust Scaler + Linear Regression')\n",
    "    numeric_features = ['session_durantion']\n",
    "    categorical_features = ['locale', 'hour_of_day', 'day_of_week', 'agent_id', 'entry_page', 'traffic_type']\n",
    "\n",
    "    numeric_transformer = Pipeline(steps=[\n",
    "        ('robust_scaler', RobustScaler())])\n",
    "    \n",
    "    categorical_transformer = Pipeline(steps=[\n",
    "    ('onehot', OneHotEncoder(handle_unknown='ignore'))])\n",
    "    \n",
    "    preprocessor = ColumnTransformer(\n",
    "    transformers=[\n",
    "        ('num', numeric_transformer, numeric_features),\n",
    "        ('cat', categorical_transformer, categorical_features)])\n",
    "    \n",
    "    clf = Pipeline(steps=[('preprocessor', preprocessor),\n",
    "                      ('linear_regression', LinearRegression())])\n",
    "    \n",
    "    X = df.drop(columns=['row_num', 'hits'])\n",
    "    y = df['hits']\n",
    "    \n",
    "    kf = KFold(n_splits=n_folds)\n",
    "    kf.get_n_splits(X)\n",
    "    \n",
    "    rmse_kfold_test = []\n",
    "    rmse_kfold_train = []\n",
    "    for train_index, test_index in kf.split(X,y):\n",
    "        #print(\"TRAIN:\", train_index, \"TEST:\", test_index)\n",
    "        X_train, X_test = X.iloc[train_index], X.iloc[test_index]\n",
    "        y_train, y_test = y.iloc[train_index], y.iloc[test_index]\n",
    "        clf.fit(X_train, y_train)\n",
    "        y_pred_test = clf.predict(X_test)\n",
    "        y_pred_train = clf.predict(X_train)\n",
    "        rmse_kfold_test.append(root_mean_squared_error(y_test, np.round(np.maximum(y_pred_test, 0))))\n",
    "        rmse_kfold_train.append(root_mean_squared_error(y_train, np.round(np.maximum(y_pred_train, 0))))\n",
    "        \n",
    "    avg_rmse_kfold_train = sum(rmse_kfold_train) / len(rmse_kfold_train)\n",
    "    avg_rmse_kfold_test = sum(rmse_kfold_test) / len(rmse_kfold_test)\n",
    "    \n",
    "    print('RMSE train:', avg_rmse_kfold_train)\n",
    "    print('RMSE test:', avg_rmse_kfold_test)\n",
    "    \n",
    "    return avg_rmse_kfold_test\n",
    "    "
   ]
  },
  {
   "cell_type": "code",
   "execution_count": 84,
   "metadata": {},
   "outputs": [
    {
     "name": "stdout",
     "output_type": "stream",
     "text": [
      "Model 3: Robust Scaler + Linear Regression\n",
      "RMSE train: 15.706701542431478\n",
      "RMSE test: 15.713797682123058\n"
     ]
    }
   ],
   "source": [
    "models_scores['model_3'] = linear_regression_3(train, 5)"
   ]
  },
  {
   "cell_type": "code",
   "execution_count": 91,
   "metadata": {},
   "outputs": [],
   "source": [
    "def linear_regression_4(df, n_folds):\n",
    "    print('Model 4: Log Transformation + Linear Regression')\n",
    "    numeric_features = ['session_durantion']\n",
    "    categorical_features = ['locale', 'hour_of_day', 'day_of_week', 'agent_id', 'entry_page', 'traffic_type']\n",
    "\n",
    "    numeric_transformer = Pipeline(steps=[\n",
    "        ('log_transform', FunctionTransformer(np.log1p, validate=True))])\n",
    "    \n",
    "    categorical_transformer = Pipeline(steps=[\n",
    "    ('onehot', OneHotEncoder(handle_unknown='ignore'))])\n",
    "    \n",
    "    preprocessor = ColumnTransformer(\n",
    "    transformers=[\n",
    "        ('num', numeric_transformer, numeric_features),\n",
    "        ('cat', categorical_transformer, categorical_features)])\n",
    "    \n",
    "    clf = Pipeline(steps=[('preprocessor', preprocessor),\n",
    "                      ('linear_regression', LinearRegression())])\n",
    "    \n",
    "    X = df.drop(columns=['row_num', 'hits'])\n",
    "    y = df['hits']\n",
    "    \n",
    "    kf = KFold(n_splits=n_folds)\n",
    "    kf.get_n_splits(X)\n",
    "    \n",
    "    rmse_kfold_test = []\n",
    "    rmse_kfold_train = []\n",
    "    for train_index, test_index in kf.split(X,y):\n",
    "        #print(\"TRAIN:\", train_index, \"TEST:\", test_index)\n",
    "        X_train, X_test = X.iloc[train_index], X.iloc[test_index]\n",
    "        y_train, y_test = y.iloc[train_index], y.iloc[test_index]\n",
    "        clf.fit(X_train, y_train)\n",
    "        y_pred_test = clf.predict(X_test)\n",
    "        y_pred_train = clf.predict(X_train)\n",
    "        rmse_kfold_test.append(root_mean_squared_error(y_test, np.round(np.maximum(y_pred_test, 0))))\n",
    "        rmse_kfold_train.append(root_mean_squared_error(y_train, np.round(np.maximum(y_pred_train, 0))))\n",
    "        \n",
    "    avg_rmse_kfold_train = sum(rmse_kfold_train) / len(rmse_kfold_train)\n",
    "    avg_rmse_kfold_test = sum(rmse_kfold_test) / len(rmse_kfold_test)\n",
    "    \n",
    "    print('RMSE train:', avg_rmse_kfold_train)\n",
    "    print('RMSE test:', avg_rmse_kfold_test)\n",
    "    \n",
    "    return avg_rmse_kfold_test\n",
    "    "
   ]
  },
  {
   "cell_type": "code",
   "execution_count": 92,
   "metadata": {},
   "outputs": [
    {
     "name": "stdout",
     "output_type": "stream",
     "text": [
      "Model 4: Log Transformation + Linear Regression\n",
      "RMSE train: 14.50459408993547\n",
      "RMSE test: 14.511520609012527\n"
     ]
    }
   ],
   "source": [
    "models_scores['model_4'] = linear_regression_4(train, 5)"
   ]
  },
  {
   "cell_type": "markdown",
   "metadata": {},
   "source": [
    "### 5.2 Decision Tree\n",
    "<a id=\"dt\"></a>"
   ]
  },
  {
   "cell_type": "code",
   "execution_count": 93,
   "metadata": {},
   "outputs": [],
   "source": [
    "from sklearn.tree import DecisionTreeRegressor"
   ]
  },
  {
   "cell_type": "code",
   "execution_count": 94,
   "metadata": {},
   "outputs": [],
   "source": [
    "def decision_tree_1(df, n_folds):\n",
    "    print('Model 5: Log Transformation + Decision Tree + GridSearch')\n",
    "    numeric_features = ['session_durantion']\n",
    "    categorical_features = ['locale', 'hour_of_day', 'day_of_week', 'agent_id', 'entry_page', 'traffic_type']\n",
    "\n",
    "    numeric_transformer = Pipeline(steps=[\n",
    "        ('log_transform', FunctionTransformer(np.log1p, validate=True))])\n",
    "    \n",
    "    categorical_transformer = Pipeline(steps=[\n",
    "    ('onehot', OneHotEncoder(handle_unknown='ignore'))])\n",
    "    \n",
    "    preprocessor = ColumnTransformer(\n",
    "    transformers=[\n",
    "        ('num', numeric_transformer, numeric_features),\n",
    "        ('cat', categorical_transformer, categorical_features)])\n",
    "    \n",
    "    model  = Pipeline(steps=[('preprocessor', preprocessor),\n",
    "                      ('decision_tree', DecisionTreeRegressor(random_state=0))])\n",
    "    \n",
    "    X = df.drop(columns=['row_num', 'hits'])\n",
    "    y = df['hits']\n",
    "    \n",
    "    rmse_scorer = make_scorer(root_mean_squared_error, greater_is_better=False)\n",
    "    \n",
    "    num_leafs = [10, 20, 50, 100, 200]\n",
    "    depths = [10, 15]\n",
    "    \n",
    "    param_grid = [{'decision_tree__max_depth': depths,\n",
    "              'decision_tree__min_samples_leaf':num_leafs}]\n",
    "    \n",
    "    \n",
    "    grid = GridSearchCV(model, param_grid, cv=10, scoring=rmse_scorer, iid=False, return_train_score=True, error_score=np.nan, n_jobs=-1, verbose=10)\n",
    "    grid.fit(X, y)\n",
    "    print('Best Parameters:', grid.best_params_)\n",
    "    best_model = clone(grid.best_estimator_)\n",
    "    \n",
    "    kf = KFold(n_splits=n_folds)\n",
    "    kf.get_n_splits(X)\n",
    "    \n",
    "    rmse_kfold_test = []\n",
    "    rmse_kfold_train = []\n",
    "    for train_index, test_index in kf.split(X,y):\n",
    "        #print(\"TRAIN:\", train_index, \"TEST:\", test_index)\n",
    "        X_train, X_test = X.iloc[train_index], X.iloc[test_index]\n",
    "        y_train, y_test = y.iloc[train_index], y.iloc[test_index]\n",
    "        best_model.fit(X_train, y_train)\n",
    "        y_pred_test = best_model.predict(X_test)\n",
    "        y_pred_train = best_model.predict(X_train)\n",
    "        rmse_kfold_test.append(root_mean_squared_error(y_test, np.round(np.maximum(y_pred_test, 0))))\n",
    "        rmse_kfold_train.append(root_mean_squared_error(y_train, np.round(np.maximum(y_pred_train, 0))))\n",
    "        \n",
    "    \n",
    "    avg_rmse_kfold_train = sum(rmse_kfold_train) / len(rmse_kfold_train)\n",
    "    avg_rmse_kfold_test = sum(rmse_kfold_test) / len(rmse_kfold_test)\n",
    "    \n",
    "    print('RMSE train:', avg_rmse_kfold_train)\n",
    "    print('RMSE test:', avg_rmse_kfold_test)\n",
    "    \n",
    "    return avg_rmse_kfold_test\n",
    "    \n",
    "    "
   ]
  },
  {
   "cell_type": "code",
   "execution_count": 95,
   "metadata": {
    "scrolled": true
   },
   "outputs": [
    {
     "name": "stdout",
     "output_type": "stream",
     "text": [
      "Model 5: Log Transformation + Decision Tree + GridSearch\n",
      "Fitting 10 folds for each of 10 candidates, totalling 100 fits\n"
     ]
    },
    {
     "name": "stderr",
     "output_type": "stream",
     "text": [
      "[Parallel(n_jobs=-1)]: Using backend LokyBackend with 4 concurrent workers.\n",
      "[Parallel(n_jobs=-1)]: Done   5 tasks      | elapsed:  1.5min\n",
      "[Parallel(n_jobs=-1)]: Done  10 tasks      | elapsed:  2.3min\n",
      "[Parallel(n_jobs=-1)]: Done  17 tasks      | elapsed:  3.8min\n",
      "[Parallel(n_jobs=-1)]: Done  24 tasks      | elapsed:  4.6min\n",
      "[Parallel(n_jobs=-1)]: Done  33 tasks      | elapsed:  6.7min\n",
      "[Parallel(n_jobs=-1)]: Done  42 tasks      | elapsed:  8.2min\n",
      "[Parallel(n_jobs=-1)]: Done  53 tasks      | elapsed: 11.6min\n",
      "[Parallel(n_jobs=-1)]: Done  64 tasks      | elapsed: 17.9min\n",
      "[Parallel(n_jobs=-1)]: Done  77 tasks      | elapsed: 24.3min\n",
      "[Parallel(n_jobs=-1)]: Done  90 tasks      | elapsed: 29.8min\n",
      "[Parallel(n_jobs=-1)]: Done 100 out of 100 | elapsed: 33.3min finished\n"
     ]
    },
    {
     "name": "stdout",
     "output_type": "stream",
     "text": [
      "Best Parameters: {'decision_tree__max_depth': 15, 'decision_tree__min_samples_leaf': 200}\n",
      "RMSE train: 13.645908235520258\n",
      "RMSE test: 13.761585920756403\n"
     ]
    }
   ],
   "source": [
    "models_scores['model_5'] = decision_tree_1(train, 5)"
   ]
  },
  {
   "cell_type": "code",
   "execution_count": 98,
   "metadata": {},
   "outputs": [],
   "source": [
    "def decision_tree_2(df, n_folds):\n",
    "    print('Model 6: Robust Scaler + Decision Tree + GridSearch')\n",
    "    numeric_features = ['session_durantion']\n",
    "    categorical_features = ['locale', 'hour_of_day', 'day_of_week', 'agent_id', 'entry_page', 'traffic_type']\n",
    "\n",
    "    numeric_transformer = Pipeline(steps=[\n",
    "        ('log_transform', RobustScaler())])\n",
    "    \n",
    "    categorical_transformer = Pipeline(steps=[\n",
    "    ('onehot', OneHotEncoder(handle_unknown='ignore'))])\n",
    "    \n",
    "    preprocessor = ColumnTransformer(\n",
    "    transformers=[\n",
    "        ('num', numeric_transformer, numeric_features),\n",
    "        ('cat', categorical_transformer, categorical_features)])\n",
    "    \n",
    "    model  = Pipeline(steps=[('preprocessor', preprocessor),\n",
    "                      ('decision_tree', DecisionTreeRegressor(random_state=0))])\n",
    "    \n",
    "    X = df.drop(columns=['row_num', 'hits'])\n",
    "    y = df['hits']\n",
    "    \n",
    "    rmse_scorer = make_scorer(root_mean_squared_error, greater_is_better=False)\n",
    "    \n",
    "    num_leafs = [10, 20, 50, 100, 200]\n",
    "    depths = [10, 15]\n",
    "    \n",
    "    param_grid = [{'decision_tree__max_depth': depths,\n",
    "              'decision_tree__min_samples_leaf':num_leafs}]\n",
    "    \n",
    "    \n",
    "    grid = GridSearchCV(model, param_grid, cv=10, scoring=rmse_scorer, iid=False, return_train_score=True, error_score=np.nan, n_jobs=-1, verbose=10)\n",
    "    grid.fit(X, y)\n",
    "    print('Best Parameters:', grid.best_params_)\n",
    "    best_model = clone(grid.best_estimator_)\n",
    "    \n",
    "    kf = KFold(n_splits=n_folds)\n",
    "    kf.get_n_splits(X)\n",
    "    \n",
    "    rmse_kfold_test = []\n",
    "    rmse_kfold_train = []\n",
    "    for train_index, test_index in kf.split(X,y):\n",
    "        #print(\"TRAIN:\", train_index, \"TEST:\", test_index)\n",
    "        X_train, X_test = X.iloc[train_index], X.iloc[test_index]\n",
    "        y_train, y_test = y.iloc[train_index], y.iloc[test_index]\n",
    "        best_model.fit(X_train, y_train)\n",
    "        y_pred_test = best_model.predict(X_test)\n",
    "        y_pred_train = best_model.predict(X_train)\n",
    "        rmse_kfold_test.append(root_mean_squared_error(y_test, np.round(np.maximum(y_pred_test, 0))))\n",
    "        rmse_kfold_train.append(root_mean_squared_error(y_train, np.round(np.maximum(y_pred_train, 0))))\n",
    "        \n",
    "    \n",
    "    avg_rmse_kfold_train = sum(rmse_kfold_train) / len(rmse_kfold_train)\n",
    "    avg_rmse_kfold_test = sum(rmse_kfold_test) / len(rmse_kfold_test)\n",
    "    \n",
    "    print('RMSE train:', avg_rmse_kfold_train)\n",
    "    print('RMSE test:', avg_rmse_kfold_test)\n",
    "    \n",
    "    return avg_rmse_kfold_test\n",
    "    \n",
    "    "
   ]
  },
  {
   "cell_type": "code",
   "execution_count": 99,
   "metadata": {},
   "outputs": [
    {
     "name": "stdout",
     "output_type": "stream",
     "text": [
      "Model 6: Robust Scaler + Decision Tree + GridSearch\n",
      "Fitting 10 folds for each of 10 candidates, totalling 100 fits\n"
     ]
    },
    {
     "name": "stderr",
     "output_type": "stream",
     "text": [
      "[Parallel(n_jobs=-1)]: Using backend LokyBackend with 4 concurrent workers.\n",
      "[Parallel(n_jobs=-1)]: Done   5 tasks      | elapsed:  1.5min\n",
      "[Parallel(n_jobs=-1)]: Done  10 tasks      | elapsed:  2.2min\n",
      "[Parallel(n_jobs=-1)]: Done  17 tasks      | elapsed:  3.5min\n",
      "[Parallel(n_jobs=-1)]: Done  24 tasks      | elapsed:  4.3min\n",
      "[Parallel(n_jobs=-1)]: Done  33 tasks      | elapsed:  6.2min\n",
      "[Parallel(n_jobs=-1)]: Done  42 tasks      | elapsed:  7.7min\n",
      "[Parallel(n_jobs=-1)]: Done  53 tasks      | elapsed: 10.8min\n",
      "[Parallel(n_jobs=-1)]: Done  64 tasks      | elapsed: 17.1min\n",
      "[Parallel(n_jobs=-1)]: Done  77 tasks      | elapsed: 24.1min\n",
      "[Parallel(n_jobs=-1)]: Done  90 tasks      | elapsed: 30.1min\n",
      "[Parallel(n_jobs=-1)]: Done 100 out of 100 | elapsed: 34.0min finished\n"
     ]
    },
    {
     "name": "stdout",
     "output_type": "stream",
     "text": [
      "Best Parameters: {'decision_tree__max_depth': 15, 'decision_tree__min_samples_leaf': 200}\n",
      "RMSE train: 13.645908235520258\n",
      "RMSE test: 13.761569516104458\n"
     ]
    }
   ],
   "source": [
    "models_scores['model_6'] = decision_tree_2(train, 5)"
   ]
  },
  {
   "cell_type": "markdown",
   "metadata": {},
   "source": [
    "### 5.3 Random Forest\n",
    "<a id=\"rf\"></a>"
   ]
  },
  {
   "cell_type": "code",
   "execution_count": 46,
   "metadata": {},
   "outputs": [],
   "source": [
    "from sklearn.ensemble import RandomForestRegressor"
   ]
  },
  {
   "cell_type": "code",
   "execution_count": 47,
   "metadata": {},
   "outputs": [],
   "source": [
    "def random_forest(df, n_folds):\n",
    "    print('Model 7: Log Transformation + Random Forest + RandomizedSearch')\n",
    "    numeric_features = ['session_durantion']\n",
    "    categorical_features = ['locale', 'hour_of_day', 'day_of_week', 'agent_id', 'entry_page', 'traffic_type']\n",
    "\n",
    "    numeric_transformer = Pipeline(steps=[\n",
    "        ('log_transform', FunctionTransformer(np.log1p, validate=True))])\n",
    "    \n",
    "    categorical_transformer = Pipeline(steps=[\n",
    "    ('onehot', OneHotEncoder(handle_unknown='ignore'))])\n",
    "    \n",
    "    preprocessor = ColumnTransformer(\n",
    "    transformers=[\n",
    "        ('num', numeric_transformer, numeric_features),\n",
    "        ('cat', categorical_transformer, categorical_features)])\n",
    "    \n",
    "    model  = Pipeline(steps=[('preprocessor', preprocessor),\n",
    "                      ('random_forest', RandomForestRegressor())])\n",
    "    \n",
    "    X = df.drop(columns=['row_num', 'hits'])\n",
    "    y = df['hits'].astype('int32')\n",
    "    \n",
    "    rmse_scorer = make_scorer(root_mean_squared_error, greater_is_better=False)\n",
    "    \n",
    "    max_depth = [int(x) for x in np.linspace(10, 40, num = 11)]\n",
    "    max_depth.append(None)\n",
    "    \n",
    "    \n",
    "    param_dist = {\n",
    "        'random_forest__n_estimators': [50,100],\n",
    "        'random_forest__max_features': ['auto', 'sqrt'],\n",
    "        'random_forest__max_depth': max_depth,\n",
    "        'random_forest__min_samples_leaf': [1, 2, 4],\n",
    "        'random_forest__random_state': [0]\n",
    "    }\n",
    "    \n",
    "    kf = KFold(n_splits=n_folds)\n",
    "    kf.get_n_splits(X)\n",
    "    \n",
    "    \n",
    "    rnd_search = RandomizedSearchCV(model, param_dist, n_iter=5, cv=kf, scoring=rmse_scorer, iid=False, return_train_score=True, error_score=np.nan, n_jobs=1, random_state=0, verbose=4)\n",
    "    rnd_search.fit(X, y)\n",
    "    print('Best Parameters:', rnd_search.best_params_)\n",
    "    best_model = clone(rnd_search.best_estimator_)\n",
    "    \n",
    "    \n",
    "    rmse_kfold_test = []\n",
    "    rmse_kfold_train = []\n",
    "    for train_index, test_index in kf.split(X,y):\n",
    "        #print(\"TRAIN:\", train_index, \"TEST:\", test_index)\n",
    "        X_train, X_test = X.iloc[train_index], X.iloc[test_index]\n",
    "        y_train, y_test = y.iloc[train_index], y.iloc[test_index]\n",
    "        best_model.fit(X_train, y_train)\n",
    "        y_pred_test = best_model.predict(X_test)\n",
    "        y_pred_train = best_model.predict(X_train)\n",
    "        rmse_kfold_test.append(root_mean_squared_error(y_test, np.round(np.maximum(y_pred_test, 0))))\n",
    "        rmse_kfold_train.append(root_mean_squared_error(y_train, np.round(np.maximum(y_pred_train, 0))))\n",
    "        \n",
    "    \n",
    "    avg_rmse_kfold_train = sum(rmse_kfold_train) / len(rmse_kfold_train)\n",
    "    avg_rmse_kfold_test = sum(rmse_kfold_test) / len(rmse_kfold_test)\n",
    "    \n",
    "    print('RMSE train:', avg_rmse_kfold_train)\n",
    "    print('RMSE test:', avg_rmse_kfold_test)\n",
    "    \n",
    "    return avg_rmse_kfold_test\n",
    "    \n",
    "    "
   ]
  },
  {
   "cell_type": "code",
   "execution_count": null,
   "metadata": {
    "scrolled": true
   },
   "outputs": [
    {
     "name": "stdout",
     "output_type": "stream",
     "text": [
      "Model 7: Log Transformation + Random Forest + RandomizedSearch\n",
      "Fitting 5 folds for each of 5 candidates, totalling 25 fits\n",
      "[CV] random_forest__random_state=0, random_forest__n_estimators=100, random_forest__min_samples_leaf=1, random_forest__max_features=sqrt, random_forest__max_depth=10 \n"
     ]
    },
    {
     "name": "stderr",
     "output_type": "stream",
     "text": [
      "[Parallel(n_jobs=1)]: Using backend SequentialBackend with 1 concurrent workers.\n"
     ]
    },
    {
     "name": "stdout",
     "output_type": "stream",
     "text": [
      "[CV]  random_forest__random_state=0, random_forest__n_estimators=100, random_forest__min_samples_leaf=1, random_forest__max_features=sqrt, random_forest__max_depth=10, score=(train=-15.310, test=-15.457), total= 1.5min\n",
      "[CV] random_forest__random_state=0, random_forest__n_estimators=100, random_forest__min_samples_leaf=1, random_forest__max_features=sqrt, random_forest__max_depth=10 \n"
     ]
    },
    {
     "name": "stderr",
     "output_type": "stream",
     "text": [
      "[Parallel(n_jobs=1)]: Done   1 out of   1 | elapsed:  1.6min remaining:    0.0s\n"
     ]
    },
    {
     "name": "stdout",
     "output_type": "stream",
     "text": [
      "[CV]  random_forest__random_state=0, random_forest__n_estimators=100, random_forest__min_samples_leaf=1, random_forest__max_features=sqrt, random_forest__max_depth=10, score=(train=-15.148, test=-15.270), total= 1.1min\n",
      "[CV] random_forest__random_state=0, random_forest__n_estimators=100, random_forest__min_samples_leaf=1, random_forest__max_features=sqrt, random_forest__max_depth=10 \n"
     ]
    },
    {
     "name": "stderr",
     "output_type": "stream",
     "text": [
      "[Parallel(n_jobs=1)]: Done   2 out of   2 | elapsed:  2.8min remaining:    0.0s\n"
     ]
    },
    {
     "name": "stdout",
     "output_type": "stream",
     "text": [
      "[CV]  random_forest__random_state=0, random_forest__n_estimators=100, random_forest__min_samples_leaf=1, random_forest__max_features=sqrt, random_forest__max_depth=10, score=(train=-15.070, test=-15.084), total= 1.4min\n",
      "[CV] random_forest__random_state=0, random_forest__n_estimators=100, random_forest__min_samples_leaf=1, random_forest__max_features=sqrt, random_forest__max_depth=10 \n"
     ]
    },
    {
     "name": "stderr",
     "output_type": "stream",
     "text": [
      "[Parallel(n_jobs=1)]: Done   3 out of   3 | elapsed:  4.3min remaining:    0.0s\n"
     ]
    },
    {
     "name": "stdout",
     "output_type": "stream",
     "text": [
      "[CV]  random_forest__random_state=0, random_forest__n_estimators=100, random_forest__min_samples_leaf=1, random_forest__max_features=sqrt, random_forest__max_depth=10, score=(train=-15.225, test=-15.099), total= 1.2min\n",
      "[CV] random_forest__random_state=0, random_forest__n_estimators=100, random_forest__min_samples_leaf=1, random_forest__max_features=sqrt, random_forest__max_depth=10 \n",
      "[CV]  random_forest__random_state=0, random_forest__n_estimators=100, random_forest__min_samples_leaf=1, random_forest__max_features=sqrt, random_forest__max_depth=10, score=(train=-15.078, test=-15.098), total= 1.3min\n",
      "[CV] random_forest__random_state=0, random_forest__n_estimators=100, random_forest__min_samples_leaf=4, random_forest__max_features=auto, random_forest__max_depth=31 \n",
      "[CV]  random_forest__random_state=0, random_forest__n_estimators=100, random_forest__min_samples_leaf=4, random_forest__max_features=auto, random_forest__max_depth=31, score=(train=-10.756, test=-13.980), total=126.3min\n",
      "[CV] random_forest__random_state=0, random_forest__n_estimators=100, random_forest__min_samples_leaf=4, random_forest__max_features=auto, random_forest__max_depth=31 \n",
      "[CV]  random_forest__random_state=0, random_forest__n_estimators=100, random_forest__min_samples_leaf=4, random_forest__max_features=auto, random_forest__max_depth=31, score=(train=-10.749, test=-13.977), total=142.7min\n",
      "[CV] random_forest__random_state=0, random_forest__n_estimators=100, random_forest__min_samples_leaf=4, random_forest__max_features=auto, random_forest__max_depth=31 \n"
     ]
    }
   ],
   "source": [
    "models_scores['model_7'] = random_forest(train, 5)"
   ]
  },
  {
   "cell_type": "markdown",
   "metadata": {},
   "source": [
    "### 5.4 XGBoost Regressor\n",
    "<a id=\"XGB\"></a>"
   ]
  },
  {
   "cell_type": "code",
   "execution_count": 42,
   "metadata": {
    "scrolled": true
   },
   "outputs": [],
   "source": [
    "import xgboost as xgb"
   ]
  },
  {
   "cell_type": "code",
   "execution_count": 43,
   "metadata": {},
   "outputs": [],
   "source": [
    "def xgboost(df, n_folds):\n",
    "    print('Model 8: Log Transformation + XGBoost + RandomizedSearch')\n",
    "    numeric_features = ['session_durantion']\n",
    "    categorical_features = ['locale', 'hour_of_day', 'day_of_week', 'agent_id', 'entry_page', 'traffic_type']\n",
    "\n",
    "    numeric_transformer = Pipeline(steps=[\n",
    "        ('log_transform', FunctionTransformer(np.log1p, validate=True))])\n",
    "    \n",
    "    categorical_transformer = Pipeline(steps=[\n",
    "    ('onehot', OneHotEncoder(handle_unknown='ignore'))])\n",
    "    \n",
    "    preprocessor = ColumnTransformer(\n",
    "    transformers=[\n",
    "        ('num', numeric_transformer, numeric_features),\n",
    "        ('cat', categorical_transformer, categorical_features)])\n",
    "    \n",
    "    model  = Pipeline(steps=[('preprocessor', preprocessor),\n",
    "                      ('xgboost', xgb.XGBRegressor())])\n",
    "    \n",
    "    X = df.drop(columns=['row_num', 'hits'])\n",
    "    y = df['hits'].astype('int')\n",
    "    \n",
    "    rmse_scorer = make_scorer(root_mean_squared_error, greater_is_better=False)\n",
    "    \n",
    "    kf = KFold(n_splits=n_folds)\n",
    "    kf.get_n_splits(X)\n",
    "    \n",
    "    param_grid = {\n",
    "        'xgboost__min_child_weight': [1, 5],\n",
    "        'xgboost__gamma': [0.5, 1, 1.5, 2, 5],\n",
    "        'xgboost__subsample': [0.6, 0.8, 1.0],\n",
    "        'xgboost__colsample_bytree': [0.6, 0.8, 1.0],\n",
    "        'xgboost__max_depth': [3, 4, 5]\n",
    "        }\n",
    "    \n",
    "    rnd_search = RandomizedSearchCV(model, param_grid, n_iter=10, cv=kf, scoring=rmse_scorer, iid=False, return_train_score=True, error_score=np.nan, n_jobs=1, random_state=0)\n",
    "    rnd_search.fit(X, y)\n",
    "    print('Best Parameters:', rnd_search.best_params_)\n",
    "    best_model = clone(rnd_search.best_estimator_)\n",
    "    \n",
    "\n",
    "    \n",
    "    rmse_kfold_test = []\n",
    "    rmse_kfold_train = []\n",
    "    for train_index, test_index in kf.split(X,y):\n",
    "        #print(\"TRAIN:\", train_index, \"TEST:\", test_index)\n",
    "        X_train, X_test = X.iloc[train_index], X.iloc[test_index]\n",
    "        y_train, y_test = y.iloc[train_index], y.iloc[test_index]\n",
    "        best_model.fit(X_train, y_train)\n",
    "        y_pred_test = best_model.predict(X_test)\n",
    "        y_pred_train = best_model.predict(X_train)\n",
    "        rmse_kfold_test.append(root_mean_squared_error(y_test, np.round(np.maximum(y_pred_test, 0))))\n",
    "        rmse_kfold_train.append(root_mean_squared_error(y_train, np.round(np.maximum(y_pred_train, 0))))\n",
    "        \n",
    "    \n",
    "    avg_rmse_kfold_train = sum(rmse_kfold_train) / len(rmse_kfold_train)\n",
    "    avg_rmse_kfold_test = sum(rmse_kfold_test) / len(rmse_kfold_test)\n",
    "    \n",
    "    print('RMSE train:', avg_rmse_kfold_train)\n",
    "    print('RMSE test:', avg_rmse_kfold_test)\n",
    "    \n",
    "    return avg_rmse_kfold_test\n",
    "    \n",
    "    "
   ]
  },
  {
   "cell_type": "code",
   "execution_count": 62,
   "metadata": {
    "scrolled": true
   },
   "outputs": [
    {
     "name": "stdout",
     "output_type": "stream",
     "text": [
      "Model 8: Log Transformation + XGBoost + RandomizedSearch\n"
     ]
    },
    {
     "name": "stderr",
     "output_type": "stream",
     "text": [
      "c:\\users\\najib\\appdata\\local\\programs\\python\\python37\\lib\\site-packages\\xgboost\\core.py:587: FutureWarning: Series.base is deprecated and will be removed in a future version\n",
      "  if getattr(data, 'base', None) is not None and \\\n"
     ]
    },
    {
     "name": "stdout",
     "output_type": "stream",
     "text": [
      "[19:58:19] WARNING: C:/Jenkins/workspace/xgboost-win64_release_0.90/src/objective/regression_obj.cu:152: reg:linear is now deprecated in favor of reg:squarederror.\n"
     ]
    },
    {
     "name": "stderr",
     "output_type": "stream",
     "text": [
      "c:\\users\\najib\\appdata\\local\\programs\\python\\python37\\lib\\site-packages\\xgboost\\core.py:587: FutureWarning: Series.base is deprecated and will be removed in a future version\n",
      "  if getattr(data, 'base', None) is not None and \\\n"
     ]
    },
    {
     "name": "stdout",
     "output_type": "stream",
     "text": [
      "[19:58:56] WARNING: C:/Jenkins/workspace/xgboost-win64_release_0.90/src/objective/regression_obj.cu:152: reg:linear is now deprecated in favor of reg:squarederror.\n"
     ]
    },
    {
     "name": "stderr",
     "output_type": "stream",
     "text": [
      "c:\\users\\najib\\appdata\\local\\programs\\python\\python37\\lib\\site-packages\\xgboost\\core.py:587: FutureWarning: Series.base is deprecated and will be removed in a future version\n",
      "  if getattr(data, 'base', None) is not None and \\\n"
     ]
    },
    {
     "name": "stdout",
     "output_type": "stream",
     "text": [
      "[19:59:34] WARNING: C:/Jenkins/workspace/xgboost-win64_release_0.90/src/objective/regression_obj.cu:152: reg:linear is now deprecated in favor of reg:squarederror.\n"
     ]
    },
    {
     "name": "stderr",
     "output_type": "stream",
     "text": [
      "c:\\users\\najib\\appdata\\local\\programs\\python\\python37\\lib\\site-packages\\xgboost\\core.py:587: FutureWarning: Series.base is deprecated and will be removed in a future version\n",
      "  if getattr(data, 'base', None) is not None and \\\n"
     ]
    },
    {
     "name": "stdout",
     "output_type": "stream",
     "text": [
      "[20:00:12] WARNING: C:/Jenkins/workspace/xgboost-win64_release_0.90/src/objective/regression_obj.cu:152: reg:linear is now deprecated in favor of reg:squarederror.\n"
     ]
    },
    {
     "name": "stderr",
     "output_type": "stream",
     "text": [
      "c:\\users\\najib\\appdata\\local\\programs\\python\\python37\\lib\\site-packages\\xgboost\\core.py:587: FutureWarning: Series.base is deprecated and will be removed in a future version\n",
      "  if getattr(data, 'base', None) is not None and \\\n"
     ]
    },
    {
     "name": "stdout",
     "output_type": "stream",
     "text": [
      "[20:00:48] WARNING: C:/Jenkins/workspace/xgboost-win64_release_0.90/src/objective/regression_obj.cu:152: reg:linear is now deprecated in favor of reg:squarederror.\n"
     ]
    },
    {
     "name": "stderr",
     "output_type": "stream",
     "text": [
      "c:\\users\\najib\\appdata\\local\\programs\\python\\python37\\lib\\site-packages\\xgboost\\core.py:587: FutureWarning: Series.base is deprecated and will be removed in a future version\n",
      "  if getattr(data, 'base', None) is not None and \\\n"
     ]
    },
    {
     "name": "stdout",
     "output_type": "stream",
     "text": [
      "[20:01:26] WARNING: C:/Jenkins/workspace/xgboost-win64_release_0.90/src/objective/regression_obj.cu:152: reg:linear is now deprecated in favor of reg:squarederror.\n"
     ]
    },
    {
     "name": "stderr",
     "output_type": "stream",
     "text": [
      "c:\\users\\najib\\appdata\\local\\programs\\python\\python37\\lib\\site-packages\\xgboost\\core.py:587: FutureWarning: Series.base is deprecated and will be removed in a future version\n",
      "  if getattr(data, 'base', None) is not None and \\\n"
     ]
    },
    {
     "name": "stdout",
     "output_type": "stream",
     "text": [
      "[20:02:16] WARNING: C:/Jenkins/workspace/xgboost-win64_release_0.90/src/objective/regression_obj.cu:152: reg:linear is now deprecated in favor of reg:squarederror.\n"
     ]
    },
    {
     "name": "stderr",
     "output_type": "stream",
     "text": [
      "c:\\users\\najib\\appdata\\local\\programs\\python\\python37\\lib\\site-packages\\xgboost\\core.py:587: FutureWarning: Series.base is deprecated and will be removed in a future version\n",
      "  if getattr(data, 'base', None) is not None and \\\n"
     ]
    },
    {
     "name": "stdout",
     "output_type": "stream",
     "text": [
      "[20:02:59] WARNING: C:/Jenkins/workspace/xgboost-win64_release_0.90/src/objective/regression_obj.cu:152: reg:linear is now deprecated in favor of reg:squarederror.\n"
     ]
    },
    {
     "name": "stderr",
     "output_type": "stream",
     "text": [
      "c:\\users\\najib\\appdata\\local\\programs\\python\\python37\\lib\\site-packages\\xgboost\\core.py:587: FutureWarning: Series.base is deprecated and will be removed in a future version\n",
      "  if getattr(data, 'base', None) is not None and \\\n"
     ]
    },
    {
     "name": "stdout",
     "output_type": "stream",
     "text": [
      "[20:03:40] WARNING: C:/Jenkins/workspace/xgboost-win64_release_0.90/src/objective/regression_obj.cu:152: reg:linear is now deprecated in favor of reg:squarederror.\n"
     ]
    },
    {
     "name": "stderr",
     "output_type": "stream",
     "text": [
      "c:\\users\\najib\\appdata\\local\\programs\\python\\python37\\lib\\site-packages\\xgboost\\core.py:587: FutureWarning: Series.base is deprecated and will be removed in a future version\n",
      "  if getattr(data, 'base', None) is not None and \\\n"
     ]
    },
    {
     "name": "stdout",
     "output_type": "stream",
     "text": [
      "[20:04:30] WARNING: C:/Jenkins/workspace/xgboost-win64_release_0.90/src/objective/regression_obj.cu:152: reg:linear is now deprecated in favor of reg:squarederror.\n"
     ]
    },
    {
     "name": "stderr",
     "output_type": "stream",
     "text": [
      "c:\\users\\najib\\appdata\\local\\programs\\python\\python37\\lib\\site-packages\\xgboost\\core.py:587: FutureWarning: Series.base is deprecated and will be removed in a future version\n",
      "  if getattr(data, 'base', None) is not None and \\\n"
     ]
    },
    {
     "name": "stdout",
     "output_type": "stream",
     "text": [
      "[20:05:21] WARNING: C:/Jenkins/workspace/xgboost-win64_release_0.90/src/objective/regression_obj.cu:152: reg:linear is now deprecated in favor of reg:squarederror.\n"
     ]
    },
    {
     "name": "stderr",
     "output_type": "stream",
     "text": [
      "c:\\users\\najib\\appdata\\local\\programs\\python\\python37\\lib\\site-packages\\xgboost\\core.py:587: FutureWarning: Series.base is deprecated and will be removed in a future version\n",
      "  if getattr(data, 'base', None) is not None and \\\n"
     ]
    },
    {
     "name": "stdout",
     "output_type": "stream",
     "text": [
      "[20:06:13] WARNING: C:/Jenkins/workspace/xgboost-win64_release_0.90/src/objective/regression_obj.cu:152: reg:linear is now deprecated in favor of reg:squarederror.\n"
     ]
    },
    {
     "name": "stderr",
     "output_type": "stream",
     "text": [
      "c:\\users\\najib\\appdata\\local\\programs\\python\\python37\\lib\\site-packages\\xgboost\\core.py:587: FutureWarning: Series.base is deprecated and will be removed in a future version\n",
      "  if getattr(data, 'base', None) is not None and \\\n"
     ]
    },
    {
     "name": "stdout",
     "output_type": "stream",
     "text": [
      "[20:06:57] WARNING: C:/Jenkins/workspace/xgboost-win64_release_0.90/src/objective/regression_obj.cu:152: reg:linear is now deprecated in favor of reg:squarederror.\n"
     ]
    },
    {
     "name": "stderr",
     "output_type": "stream",
     "text": [
      "c:\\users\\najib\\appdata\\local\\programs\\python\\python37\\lib\\site-packages\\xgboost\\core.py:587: FutureWarning: Series.base is deprecated and will be removed in a future version\n",
      "  if getattr(data, 'base', None) is not None and \\\n"
     ]
    },
    {
     "name": "stdout",
     "output_type": "stream",
     "text": [
      "[20:07:41] WARNING: C:/Jenkins/workspace/xgboost-win64_release_0.90/src/objective/regression_obj.cu:152: reg:linear is now deprecated in favor of reg:squarederror.\n"
     ]
    },
    {
     "name": "stderr",
     "output_type": "stream",
     "text": [
      "c:\\users\\najib\\appdata\\local\\programs\\python\\python37\\lib\\site-packages\\xgboost\\core.py:587: FutureWarning: Series.base is deprecated and will be removed in a future version\n",
      "  if getattr(data, 'base', None) is not None and \\\n"
     ]
    },
    {
     "name": "stdout",
     "output_type": "stream",
     "text": [
      "[20:08:31] WARNING: C:/Jenkins/workspace/xgboost-win64_release_0.90/src/objective/regression_obj.cu:152: reg:linear is now deprecated in favor of reg:squarederror.\n"
     ]
    },
    {
     "name": "stderr",
     "output_type": "stream",
     "text": [
      "c:\\users\\najib\\appdata\\local\\programs\\python\\python37\\lib\\site-packages\\xgboost\\core.py:587: FutureWarning: Series.base is deprecated and will be removed in a future version\n",
      "  if getattr(data, 'base', None) is not None and \\\n"
     ]
    },
    {
     "name": "stdout",
     "output_type": "stream",
     "text": [
      "[20:09:20] WARNING: C:/Jenkins/workspace/xgboost-win64_release_0.90/src/objective/regression_obj.cu:152: reg:linear is now deprecated in favor of reg:squarederror.\n"
     ]
    },
    {
     "name": "stderr",
     "output_type": "stream",
     "text": [
      "c:\\users\\najib\\appdata\\local\\programs\\python\\python37\\lib\\site-packages\\xgboost\\core.py:587: FutureWarning: Series.base is deprecated and will be removed in a future version\n",
      "  if getattr(data, 'base', None) is not None and \\\n"
     ]
    },
    {
     "name": "stdout",
     "output_type": "stream",
     "text": [
      "[20:10:11] WARNING: C:/Jenkins/workspace/xgboost-win64_release_0.90/src/objective/regression_obj.cu:152: reg:linear is now deprecated in favor of reg:squarederror.\n"
     ]
    },
    {
     "name": "stderr",
     "output_type": "stream",
     "text": [
      "c:\\users\\najib\\appdata\\local\\programs\\python\\python37\\lib\\site-packages\\xgboost\\core.py:587: FutureWarning: Series.base is deprecated and will be removed in a future version\n",
      "  if getattr(data, 'base', None) is not None and \\\n"
     ]
    },
    {
     "name": "stdout",
     "output_type": "stream",
     "text": [
      "[20:10:56] WARNING: C:/Jenkins/workspace/xgboost-win64_release_0.90/src/objective/regression_obj.cu:152: reg:linear is now deprecated in favor of reg:squarederror.\n"
     ]
    },
    {
     "name": "stderr",
     "output_type": "stream",
     "text": [
      "c:\\users\\najib\\appdata\\local\\programs\\python\\python37\\lib\\site-packages\\xgboost\\core.py:587: FutureWarning: Series.base is deprecated and will be removed in a future version\n",
      "  if getattr(data, 'base', None) is not None and \\\n"
     ]
    },
    {
     "name": "stdout",
     "output_type": "stream",
     "text": [
      "[20:11:41] WARNING: C:/Jenkins/workspace/xgboost-win64_release_0.90/src/objective/regression_obj.cu:152: reg:linear is now deprecated in favor of reg:squarederror.\n"
     ]
    },
    {
     "name": "stderr",
     "output_type": "stream",
     "text": [
      "c:\\users\\najib\\appdata\\local\\programs\\python\\python37\\lib\\site-packages\\xgboost\\core.py:587: FutureWarning: Series.base is deprecated and will be removed in a future version\n",
      "  if getattr(data, 'base', None) is not None and \\\n"
     ]
    },
    {
     "name": "stdout",
     "output_type": "stream",
     "text": [
      "[20:12:26] WARNING: C:/Jenkins/workspace/xgboost-win64_release_0.90/src/objective/regression_obj.cu:152: reg:linear is now deprecated in favor of reg:squarederror.\n"
     ]
    },
    {
     "name": "stderr",
     "output_type": "stream",
     "text": [
      "c:\\users\\najib\\appdata\\local\\programs\\python\\python37\\lib\\site-packages\\xgboost\\core.py:587: FutureWarning: Series.base is deprecated and will be removed in a future version\n",
      "  if getattr(data, 'base', None) is not None and \\\n"
     ]
    },
    {
     "name": "stdout",
     "output_type": "stream",
     "text": [
      "[20:13:10] WARNING: C:/Jenkins/workspace/xgboost-win64_release_0.90/src/objective/regression_obj.cu:152: reg:linear is now deprecated in favor of reg:squarederror.\n"
     ]
    },
    {
     "name": "stderr",
     "output_type": "stream",
     "text": [
      "c:\\users\\najib\\appdata\\local\\programs\\python\\python37\\lib\\site-packages\\xgboost\\core.py:587: FutureWarning: Series.base is deprecated and will be removed in a future version\n",
      "  if getattr(data, 'base', None) is not None and \\\n"
     ]
    },
    {
     "name": "stdout",
     "output_type": "stream",
     "text": [
      "[20:13:46] WARNING: C:/Jenkins/workspace/xgboost-win64_release_0.90/src/objective/regression_obj.cu:152: reg:linear is now deprecated in favor of reg:squarederror.\n"
     ]
    },
    {
     "name": "stderr",
     "output_type": "stream",
     "text": [
      "c:\\users\\najib\\appdata\\local\\programs\\python\\python37\\lib\\site-packages\\xgboost\\core.py:587: FutureWarning: Series.base is deprecated and will be removed in a future version\n",
      "  if getattr(data, 'base', None) is not None and \\\n"
     ]
    },
    {
     "name": "stdout",
     "output_type": "stream",
     "text": [
      "[20:14:25] WARNING: C:/Jenkins/workspace/xgboost-win64_release_0.90/src/objective/regression_obj.cu:152: reg:linear is now deprecated in favor of reg:squarederror.\n"
     ]
    },
    {
     "name": "stderr",
     "output_type": "stream",
     "text": [
      "c:\\users\\najib\\appdata\\local\\programs\\python\\python37\\lib\\site-packages\\xgboost\\core.py:587: FutureWarning: Series.base is deprecated and will be removed in a future version\n",
      "  if getattr(data, 'base', None) is not None and \\\n"
     ]
    },
    {
     "name": "stdout",
     "output_type": "stream",
     "text": [
      "[20:15:08] WARNING: C:/Jenkins/workspace/xgboost-win64_release_0.90/src/objective/regression_obj.cu:152: reg:linear is now deprecated in favor of reg:squarederror.\n"
     ]
    },
    {
     "name": "stderr",
     "output_type": "stream",
     "text": [
      "c:\\users\\najib\\appdata\\local\\programs\\python\\python37\\lib\\site-packages\\xgboost\\core.py:587: FutureWarning: Series.base is deprecated and will be removed in a future version\n",
      "  if getattr(data, 'base', None) is not None and \\\n"
     ]
    },
    {
     "name": "stdout",
     "output_type": "stream",
     "text": [
      "[20:15:48] WARNING: C:/Jenkins/workspace/xgboost-win64_release_0.90/src/objective/regression_obj.cu:152: reg:linear is now deprecated in favor of reg:squarederror.\n"
     ]
    },
    {
     "name": "stderr",
     "output_type": "stream",
     "text": [
      "c:\\users\\najib\\appdata\\local\\programs\\python\\python37\\lib\\site-packages\\xgboost\\core.py:587: FutureWarning: Series.base is deprecated and will be removed in a future version\n",
      "  if getattr(data, 'base', None) is not None and \\\n"
     ]
    },
    {
     "name": "stdout",
     "output_type": "stream",
     "text": [
      "[20:16:33] WARNING: C:/Jenkins/workspace/xgboost-win64_release_0.90/src/objective/regression_obj.cu:152: reg:linear is now deprecated in favor of reg:squarederror.\n"
     ]
    },
    {
     "name": "stderr",
     "output_type": "stream",
     "text": [
      "c:\\users\\najib\\appdata\\local\\programs\\python\\python37\\lib\\site-packages\\xgboost\\core.py:587: FutureWarning: Series.base is deprecated and will be removed in a future version\n",
      "  if getattr(data, 'base', None) is not None and \\\n"
     ]
    },
    {
     "name": "stdout",
     "output_type": "stream",
     "text": [
      "[20:17:14] WARNING: C:/Jenkins/workspace/xgboost-win64_release_0.90/src/objective/regression_obj.cu:152: reg:linear is now deprecated in favor of reg:squarederror.\n"
     ]
    },
    {
     "name": "stderr",
     "output_type": "stream",
     "text": [
      "c:\\users\\najib\\appdata\\local\\programs\\python\\python37\\lib\\site-packages\\xgboost\\core.py:587: FutureWarning: Series.base is deprecated and will be removed in a future version\n",
      "  if getattr(data, 'base', None) is not None and \\\n"
     ]
    },
    {
     "name": "stdout",
     "output_type": "stream",
     "text": [
      "[20:17:50] WARNING: C:/Jenkins/workspace/xgboost-win64_release_0.90/src/objective/regression_obj.cu:152: reg:linear is now deprecated in favor of reg:squarederror.\n"
     ]
    },
    {
     "name": "stderr",
     "output_type": "stream",
     "text": [
      "c:\\users\\najib\\appdata\\local\\programs\\python\\python37\\lib\\site-packages\\xgboost\\core.py:587: FutureWarning: Series.base is deprecated and will be removed in a future version\n",
      "  if getattr(data, 'base', None) is not None and \\\n"
     ]
    },
    {
     "name": "stdout",
     "output_type": "stream",
     "text": [
      "[20:18:36] WARNING: C:/Jenkins/workspace/xgboost-win64_release_0.90/src/objective/regression_obj.cu:152: reg:linear is now deprecated in favor of reg:squarederror.\n"
     ]
    },
    {
     "name": "stderr",
     "output_type": "stream",
     "text": [
      "c:\\users\\najib\\appdata\\local\\programs\\python\\python37\\lib\\site-packages\\xgboost\\core.py:587: FutureWarning: Series.base is deprecated and will be removed in a future version\n",
      "  if getattr(data, 'base', None) is not None and \\\n"
     ]
    },
    {
     "name": "stdout",
     "output_type": "stream",
     "text": [
      "[20:19:16] WARNING: C:/Jenkins/workspace/xgboost-win64_release_0.90/src/objective/regression_obj.cu:152: reg:linear is now deprecated in favor of reg:squarederror.\n"
     ]
    },
    {
     "name": "stderr",
     "output_type": "stream",
     "text": [
      "c:\\users\\najib\\appdata\\local\\programs\\python\\python37\\lib\\site-packages\\xgboost\\core.py:587: FutureWarning: Series.base is deprecated and will be removed in a future version\n",
      "  if getattr(data, 'base', None) is not None and \\\n"
     ]
    },
    {
     "name": "stdout",
     "output_type": "stream",
     "text": [
      "[20:19:57] WARNING: C:/Jenkins/workspace/xgboost-win64_release_0.90/src/objective/regression_obj.cu:152: reg:linear is now deprecated in favor of reg:squarederror.\n"
     ]
    },
    {
     "name": "stderr",
     "output_type": "stream",
     "text": [
      "c:\\users\\najib\\appdata\\local\\programs\\python\\python37\\lib\\site-packages\\xgboost\\core.py:587: FutureWarning: Series.base is deprecated and will be removed in a future version\n",
      "  if getattr(data, 'base', None) is not None and \\\n"
     ]
    },
    {
     "name": "stdout",
     "output_type": "stream",
     "text": [
      "[20:20:33] WARNING: C:/Jenkins/workspace/xgboost-win64_release_0.90/src/objective/regression_obj.cu:152: reg:linear is now deprecated in favor of reg:squarederror.\n"
     ]
    },
    {
     "name": "stderr",
     "output_type": "stream",
     "text": [
      "c:\\users\\najib\\appdata\\local\\programs\\python\\python37\\lib\\site-packages\\xgboost\\core.py:587: FutureWarning: Series.base is deprecated and will be removed in a future version\n",
      "  if getattr(data, 'base', None) is not None and \\\n"
     ]
    },
    {
     "name": "stdout",
     "output_type": "stream",
     "text": [
      "[20:21:12] WARNING: C:/Jenkins/workspace/xgboost-win64_release_0.90/src/objective/regression_obj.cu:152: reg:linear is now deprecated in favor of reg:squarederror.\n"
     ]
    },
    {
     "name": "stderr",
     "output_type": "stream",
     "text": [
      "c:\\users\\najib\\appdata\\local\\programs\\python\\python37\\lib\\site-packages\\xgboost\\core.py:587: FutureWarning: Series.base is deprecated and will be removed in a future version\n",
      "  if getattr(data, 'base', None) is not None and \\\n"
     ]
    },
    {
     "name": "stdout",
     "output_type": "stream",
     "text": [
      "[20:21:49] WARNING: C:/Jenkins/workspace/xgboost-win64_release_0.90/src/objective/regression_obj.cu:152: reg:linear is now deprecated in favor of reg:squarederror.\n"
     ]
    },
    {
     "name": "stderr",
     "output_type": "stream",
     "text": [
      "c:\\users\\najib\\appdata\\local\\programs\\python\\python37\\lib\\site-packages\\xgboost\\core.py:587: FutureWarning: Series.base is deprecated and will be removed in a future version\n",
      "  if getattr(data, 'base', None) is not None and \\\n"
     ]
    },
    {
     "name": "stdout",
     "output_type": "stream",
     "text": [
      "[20:22:24] WARNING: C:/Jenkins/workspace/xgboost-win64_release_0.90/src/objective/regression_obj.cu:152: reg:linear is now deprecated in favor of reg:squarederror.\n"
     ]
    },
    {
     "name": "stderr",
     "output_type": "stream",
     "text": [
      "c:\\users\\najib\\appdata\\local\\programs\\python\\python37\\lib\\site-packages\\xgboost\\core.py:587: FutureWarning: Series.base is deprecated and will be removed in a future version\n",
      "  if getattr(data, 'base', None) is not None and \\\n"
     ]
    },
    {
     "name": "stdout",
     "output_type": "stream",
     "text": [
      "[20:23:00] WARNING: C:/Jenkins/workspace/xgboost-win64_release_0.90/src/objective/regression_obj.cu:152: reg:linear is now deprecated in favor of reg:squarederror.\n"
     ]
    },
    {
     "name": "stderr",
     "output_type": "stream",
     "text": [
      "c:\\users\\najib\\appdata\\local\\programs\\python\\python37\\lib\\site-packages\\xgboost\\core.py:587: FutureWarning: Series.base is deprecated and will be removed in a future version\n",
      "  if getattr(data, 'base', None) is not None and \\\n"
     ]
    },
    {
     "name": "stdout",
     "output_type": "stream",
     "text": [
      "[20:23:38] WARNING: C:/Jenkins/workspace/xgboost-win64_release_0.90/src/objective/regression_obj.cu:152: reg:linear is now deprecated in favor of reg:squarederror.\n"
     ]
    },
    {
     "name": "stderr",
     "output_type": "stream",
     "text": [
      "c:\\users\\najib\\appdata\\local\\programs\\python\\python37\\lib\\site-packages\\xgboost\\core.py:587: FutureWarning: Series.base is deprecated and will be removed in a future version\n",
      "  if getattr(data, 'base', None) is not None and \\\n"
     ]
    },
    {
     "name": "stdout",
     "output_type": "stream",
     "text": [
      "[20:24:15] WARNING: C:/Jenkins/workspace/xgboost-win64_release_0.90/src/objective/regression_obj.cu:152: reg:linear is now deprecated in favor of reg:squarederror.\n"
     ]
    },
    {
     "name": "stderr",
     "output_type": "stream",
     "text": [
      "c:\\users\\najib\\appdata\\local\\programs\\python\\python37\\lib\\site-packages\\xgboost\\core.py:587: FutureWarning: Series.base is deprecated and will be removed in a future version\n",
      "  if getattr(data, 'base', None) is not None and \\\n"
     ]
    },
    {
     "name": "stdout",
     "output_type": "stream",
     "text": [
      "[20:24:54] WARNING: C:/Jenkins/workspace/xgboost-win64_release_0.90/src/objective/regression_obj.cu:152: reg:linear is now deprecated in favor of reg:squarederror.\n"
     ]
    },
    {
     "name": "stderr",
     "output_type": "stream",
     "text": [
      "c:\\users\\najib\\appdata\\local\\programs\\python\\python37\\lib\\site-packages\\xgboost\\core.py:587: FutureWarning: Series.base is deprecated and will be removed in a future version\n",
      "  if getattr(data, 'base', None) is not None and \\\n"
     ]
    },
    {
     "name": "stdout",
     "output_type": "stream",
     "text": [
      "[20:25:32] WARNING: C:/Jenkins/workspace/xgboost-win64_release_0.90/src/objective/regression_obj.cu:152: reg:linear is now deprecated in favor of reg:squarederror.\n"
     ]
    },
    {
     "name": "stderr",
     "output_type": "stream",
     "text": [
      "c:\\users\\najib\\appdata\\local\\programs\\python\\python37\\lib\\site-packages\\xgboost\\core.py:587: FutureWarning: Series.base is deprecated and will be removed in a future version\n",
      "  if getattr(data, 'base', None) is not None and \\\n"
     ]
    },
    {
     "name": "stdout",
     "output_type": "stream",
     "text": [
      "[20:26:12] WARNING: C:/Jenkins/workspace/xgboost-win64_release_0.90/src/objective/regression_obj.cu:152: reg:linear is now deprecated in favor of reg:squarederror.\n"
     ]
    },
    {
     "name": "stderr",
     "output_type": "stream",
     "text": [
      "c:\\users\\najib\\appdata\\local\\programs\\python\\python37\\lib\\site-packages\\xgboost\\core.py:587: FutureWarning: Series.base is deprecated and will be removed in a future version\n",
      "  if getattr(data, 'base', None) is not None and \\\n"
     ]
    },
    {
     "name": "stdout",
     "output_type": "stream",
     "text": [
      "[20:26:51] WARNING: C:/Jenkins/workspace/xgboost-win64_release_0.90/src/objective/regression_obj.cu:152: reg:linear is now deprecated in favor of reg:squarederror.\n"
     ]
    },
    {
     "name": "stderr",
     "output_type": "stream",
     "text": [
      "c:\\users\\najib\\appdata\\local\\programs\\python\\python37\\lib\\site-packages\\xgboost\\core.py:587: FutureWarning: Series.base is deprecated and will be removed in a future version\n",
      "  if getattr(data, 'base', None) is not None and \\\n"
     ]
    },
    {
     "name": "stdout",
     "output_type": "stream",
     "text": [
      "[20:27:29] WARNING: C:/Jenkins/workspace/xgboost-win64_release_0.90/src/objective/regression_obj.cu:152: reg:linear is now deprecated in favor of reg:squarederror.\n"
     ]
    },
    {
     "name": "stderr",
     "output_type": "stream",
     "text": [
      "c:\\users\\najib\\appdata\\local\\programs\\python\\python37\\lib\\site-packages\\xgboost\\core.py:587: FutureWarning: Series.base is deprecated and will be removed in a future version\n",
      "  if getattr(data, 'base', None) is not None and \\\n"
     ]
    },
    {
     "name": "stdout",
     "output_type": "stream",
     "text": [
      "[20:28:07] WARNING: C:/Jenkins/workspace/xgboost-win64_release_0.90/src/objective/regression_obj.cu:152: reg:linear is now deprecated in favor of reg:squarederror.\n"
     ]
    },
    {
     "name": "stderr",
     "output_type": "stream",
     "text": [
      "c:\\users\\najib\\appdata\\local\\programs\\python\\python37\\lib\\site-packages\\xgboost\\core.py:587: FutureWarning: Series.base is deprecated and will be removed in a future version\n",
      "  if getattr(data, 'base', None) is not None and \\\n"
     ]
    },
    {
     "name": "stdout",
     "output_type": "stream",
     "text": [
      "[20:28:47] WARNING: C:/Jenkins/workspace/xgboost-win64_release_0.90/src/objective/regression_obj.cu:152: reg:linear is now deprecated in favor of reg:squarederror.\n"
     ]
    },
    {
     "name": "stderr",
     "output_type": "stream",
     "text": [
      "c:\\users\\najib\\appdata\\local\\programs\\python\\python37\\lib\\site-packages\\xgboost\\core.py:587: FutureWarning: Series.base is deprecated and will be removed in a future version\n",
      "  if getattr(data, 'base', None) is not None and \\\n"
     ]
    },
    {
     "name": "stdout",
     "output_type": "stream",
     "text": [
      "[20:29:25] WARNING: C:/Jenkins/workspace/xgboost-win64_release_0.90/src/objective/regression_obj.cu:152: reg:linear is now deprecated in favor of reg:squarederror.\n"
     ]
    },
    {
     "name": "stderr",
     "output_type": "stream",
     "text": [
      "c:\\users\\najib\\appdata\\local\\programs\\python\\python37\\lib\\site-packages\\xgboost\\core.py:587: FutureWarning: Series.base is deprecated and will be removed in a future version\n",
      "  if getattr(data, 'base', None) is not None and \\\n"
     ]
    },
    {
     "name": "stdout",
     "output_type": "stream",
     "text": [
      "[20:30:13] WARNING: C:/Jenkins/workspace/xgboost-win64_release_0.90/src/objective/regression_obj.cu:152: reg:linear is now deprecated in favor of reg:squarederror.\n"
     ]
    },
    {
     "name": "stderr",
     "output_type": "stream",
     "text": [
      "c:\\users\\najib\\appdata\\local\\programs\\python\\python37\\lib\\site-packages\\xgboost\\core.py:587: FutureWarning: Series.base is deprecated and will be removed in a future version\n",
      "  if getattr(data, 'base', None) is not None and \\\n"
     ]
    },
    {
     "name": "stdout",
     "output_type": "stream",
     "text": [
      "[20:30:58] WARNING: C:/Jenkins/workspace/xgboost-win64_release_0.90/src/objective/regression_obj.cu:152: reg:linear is now deprecated in favor of reg:squarederror.\n"
     ]
    },
    {
     "name": "stderr",
     "output_type": "stream",
     "text": [
      "c:\\users\\najib\\appdata\\local\\programs\\python\\python37\\lib\\site-packages\\xgboost\\core.py:587: FutureWarning: Series.base is deprecated and will be removed in a future version\n",
      "  if getattr(data, 'base', None) is not None and \\\n"
     ]
    },
    {
     "name": "stdout",
     "output_type": "stream",
     "text": [
      "[20:31:41] WARNING: C:/Jenkins/workspace/xgboost-win64_release_0.90/src/objective/regression_obj.cu:152: reg:linear is now deprecated in favor of reg:squarederror.\n"
     ]
    },
    {
     "name": "stderr",
     "output_type": "stream",
     "text": [
      "c:\\users\\najib\\appdata\\local\\programs\\python\\python37\\lib\\site-packages\\xgboost\\core.py:587: FutureWarning: Series.base is deprecated and will be removed in a future version\n",
      "  if getattr(data, 'base', None) is not None and \\\n"
     ]
    },
    {
     "name": "stdout",
     "output_type": "stream",
     "text": [
      "[20:32:25] WARNING: C:/Jenkins/workspace/xgboost-win64_release_0.90/src/objective/regression_obj.cu:152: reg:linear is now deprecated in favor of reg:squarederror.\n"
     ]
    },
    {
     "name": "stderr",
     "output_type": "stream",
     "text": [
      "c:\\users\\najib\\appdata\\local\\programs\\python\\python37\\lib\\site-packages\\xgboost\\core.py:587: FutureWarning: Series.base is deprecated and will be removed in a future version\n",
      "  if getattr(data, 'base', None) is not None and \\\n",
      "c:\\users\\najib\\appdata\\local\\programs\\python\\python37\\lib\\site-packages\\xgboost\\core.py:588: FutureWarning: Series.base is deprecated and will be removed in a future version\n",
      "  data.base is not None and isinstance(data, np.ndarray) \\\n"
     ]
    },
    {
     "name": "stdout",
     "output_type": "stream",
     "text": [
      "[20:33:09] WARNING: C:/Jenkins/workspace/xgboost-win64_release_0.90/src/objective/regression_obj.cu:152: reg:linear is now deprecated in favor of reg:squarederror.\n",
      "Best Parameters: {'xgboost__subsample': 0.6, 'xgboost__min_child_weight': 5, 'xgboost__max_depth': 5, 'xgboost__gamma': 0.5, 'xgboost__colsample_bytree': 0.6}\n"
     ]
    },
    {
     "name": "stderr",
     "output_type": "stream",
     "text": [
      "c:\\users\\najib\\appdata\\local\\programs\\python\\python37\\lib\\site-packages\\xgboost\\core.py:587: FutureWarning: Series.base is deprecated and will be removed in a future version\n",
      "  if getattr(data, 'base', None) is not None and \\\n"
     ]
    },
    {
     "name": "stdout",
     "output_type": "stream",
     "text": [
      "[20:33:58] WARNING: C:/Jenkins/workspace/xgboost-win64_release_0.90/src/objective/regression_obj.cu:152: reg:linear is now deprecated in favor of reg:squarederror.\n"
     ]
    },
    {
     "name": "stderr",
     "output_type": "stream",
     "text": [
      "c:\\users\\najib\\appdata\\local\\programs\\python\\python37\\lib\\site-packages\\xgboost\\core.py:587: FutureWarning: Series.base is deprecated and will be removed in a future version\n",
      "  if getattr(data, 'base', None) is not None and \\\n"
     ]
    },
    {
     "name": "stdout",
     "output_type": "stream",
     "text": [
      "[20:34:42] WARNING: C:/Jenkins/workspace/xgboost-win64_release_0.90/src/objective/regression_obj.cu:152: reg:linear is now deprecated in favor of reg:squarederror.\n"
     ]
    },
    {
     "name": "stderr",
     "output_type": "stream",
     "text": [
      "c:\\users\\najib\\appdata\\local\\programs\\python\\python37\\lib\\site-packages\\xgboost\\core.py:587: FutureWarning: Series.base is deprecated and will be removed in a future version\n",
      "  if getattr(data, 'base', None) is not None and \\\n"
     ]
    },
    {
     "name": "stdout",
     "output_type": "stream",
     "text": [
      "[20:35:32] WARNING: C:/Jenkins/workspace/xgboost-win64_release_0.90/src/objective/regression_obj.cu:152: reg:linear is now deprecated in favor of reg:squarederror.\n"
     ]
    },
    {
     "name": "stderr",
     "output_type": "stream",
     "text": [
      "c:\\users\\najib\\appdata\\local\\programs\\python\\python37\\lib\\site-packages\\xgboost\\core.py:587: FutureWarning: Series.base is deprecated and will be removed in a future version\n",
      "  if getattr(data, 'base', None) is not None and \\\n"
     ]
    },
    {
     "name": "stdout",
     "output_type": "stream",
     "text": [
      "[20:36:15] WARNING: C:/Jenkins/workspace/xgboost-win64_release_0.90/src/objective/regression_obj.cu:152: reg:linear is now deprecated in favor of reg:squarederror.\n"
     ]
    },
    {
     "name": "stderr",
     "output_type": "stream",
     "text": [
      "c:\\users\\najib\\appdata\\local\\programs\\python\\python37\\lib\\site-packages\\xgboost\\core.py:587: FutureWarning: Series.base is deprecated and will be removed in a future version\n",
      "  if getattr(data, 'base', None) is not None and \\\n"
     ]
    },
    {
     "name": "stdout",
     "output_type": "stream",
     "text": [
      "[20:36:58] WARNING: C:/Jenkins/workspace/xgboost-win64_release_0.90/src/objective/regression_obj.cu:152: reg:linear is now deprecated in favor of reg:squarederror.\n",
      "RMSE train: 13.650551243632298\n",
      "RMSE test: 13.702834603173404\n"
     ]
    }
   ],
   "source": [
    "models_scores['model_8'] = xgboost(train, 5)"
   ]
  },
  {
   "cell_type": "markdown",
   "metadata": {},
   "source": [
    "Best parameters are {\n",
    "'xgboost__subsample': 0.6, \n",
    "'xgboost__min_child_weight': 5, \n",
    "'xgboost__max_depth': 5, \n",
    "'xgboost__gamma': 0.5, \n",
    "'xgboost__colsample_bytree': 0.6\n",
    "}"
   ]
  },
  {
   "cell_type": "markdown",
   "metadata": {},
   "source": [
    "## 6. Evalution\n",
    "<a id=\"evaluation\"></a>"
   ]
  },
  {
   "cell_type": "code",
   "execution_count": 88,
   "metadata": {},
   "outputs": [
    {
     "data": {
      "text/plain": [
       "[15.71377748321334, 15.713836400828859, 15.713797682123058]"
      ]
     },
     "execution_count": 88,
     "metadata": {},
     "output_type": "execute_result"
    }
   ],
   "source": [
    "score_list = list(models_scores.values())"
   ]
  },
  {
   "cell_type": "code",
   "execution_count": null,
   "metadata": {
    "scrolled": true
   },
   "outputs": [],
   "source": [
    "models = [\"Standard Scaler + Linear Regression\", \n",
    "          \"MinMax Scaler + Linear Regression\", \n",
    "          \"Robust Scaler + Linear Regression\", \n",
    "          \"Log Transformation + Linear Regression\", \n",
    "          \"Log Transformation + Decision Tree + GridSearch\", \n",
    "          \"Robust Scaler + Decision Tree + GridSearch\",\n",
    "          \"Log Transformation + Random Forest + RandomSearch\",\n",
    "          \"Log Transformation + XGBoost + RandomSearch\",\n",
    "         ]\n",
    "pd.DataFrame({\"Model\":models, \"Score\":score_list}).sort_values(\"Score\", ascending=False)"
   ]
  },
  {
   "cell_type": "markdown",
   "metadata": {},
   "source": [
    "Let's predict hits from the test set using our best model : XGBoost."
   ]
  },
  {
   "cell_type": "code",
   "execution_count": 270,
   "metadata": {},
   "outputs": [],
   "source": [
    "def best_model(train, test):\n",
    "    print('Predicting test hits.')\n",
    "    numeric_features = ['session_durantion']\n",
    "    categorical_features = ['locale', 'hour_of_day', 'day_of_week', 'agent_id', 'entry_page', 'traffic_type']\n",
    "\n",
    "    numeric_transformer = Pipeline(steps=[\n",
    "        ('log_transform', FunctionTransformer(np.log1p, validate=True))])\n",
    "    \n",
    "    categorical_transformer = Pipeline(steps=[\n",
    "    ('onehot', OneHotEncoder(handle_unknown='ignore'))])\n",
    "    \n",
    "    preprocessor = ColumnTransformer(\n",
    "    transformers=[\n",
    "        ('num', numeric_transformer, numeric_features),\n",
    "        ('cat', categorical_transformer, categorical_features)])\n",
    "    \n",
    "    model  = Pipeline(steps=[('preprocessor', preprocessor),\n",
    "                      ('xgboost', xgb.XGBRegressor(subsample=0.6, min_child_weight=5, max_depth= 5, gamma=0.5, colsample_bytree=0.6, verbose_eval=50))])\n",
    "    \n",
    "    X_train = train.drop(columns=['row_num', 'hits'])\n",
    "    y_train = train['hits'].astype('int')\n",
    "    \n",
    "    X_test = test.drop(columns=['row_num', 'hits'])\n",
    "    \n",
    "    model.fit(X_train, y_train)\n",
    "    y_test = model.predict(X_test)\n",
    "    \n",
    "    test['hits'] = np.round(np.maximum(y_test, 0))\n",
    "\n",
    "    return test[['row_num', 'hits']]"
   ]
  },
  {
   "cell_type": "code",
   "execution_count": 271,
   "metadata": {
    "scrolled": true
   },
   "outputs": [
    {
     "name": "stdout",
     "output_type": "stream",
     "text": [
      "Predicting test hits.\n"
     ]
    },
    {
     "name": "stderr",
     "output_type": "stream",
     "text": [
      "C:\\Users\\aghenda\\AppData\\Roaming\\Python\\Python37\\site-packages\\xgboost\\core.py:587: FutureWarning: Series.base is deprecated and will be removed in a future version\n",
      "  if getattr(data, 'base', None) is not None and \\\n",
      "C:\\Users\\aghenda\\AppData\\Roaming\\Python\\Python37\\site-packages\\xgboost\\core.py:588: FutureWarning: Series.base is deprecated and will be removed in a future version\n",
      "  data.base is not None and isinstance(data, np.ndarray) \\\n"
     ]
    },
    {
     "name": "stdout",
     "output_type": "stream",
     "text": [
      "[16:12:56] WARNING: d:\\build\\xgboost\\xgboost-0.90.git\\src\\objective\\regression_obj.cu:152: reg:linear is now deprecated in favor of reg:squarederror.\n"
     ]
    }
   ],
   "source": [
    "y_pred = best_model(train, test)"
   ]
  },
  {
   "cell_type": "code",
   "execution_count": 275,
   "metadata": {
    "scrolled": true
   },
   "outputs": [
    {
     "data": {
      "text/html": [
       "<div>\n",
       "<style scoped>\n",
       "    .dataframe tbody tr th:only-of-type {\n",
       "        vertical-align: middle;\n",
       "    }\n",
       "\n",
       "    .dataframe tbody tr th {\n",
       "        vertical-align: top;\n",
       "    }\n",
       "\n",
       "    .dataframe thead th {\n",
       "        text-align: right;\n",
       "    }\n",
       "</style>\n",
       "<table border=\"1\" class=\"dataframe\">\n",
       "  <thead>\n",
       "    <tr style=\"text-align: right;\">\n",
       "      <th></th>\n",
       "      <th>row_num</th>\n",
       "      <th>hits</th>\n",
       "    </tr>\n",
       "  </thead>\n",
       "  <tbody>\n",
       "    <tr>\n",
       "      <th>0</th>\n",
       "      <td>988681</td>\n",
       "      <td>37.0</td>\n",
       "    </tr>\n",
       "    <tr>\n",
       "      <th>15</th>\n",
       "      <td>988666</td>\n",
       "      <td>43.0</td>\n",
       "    </tr>\n",
       "    <tr>\n",
       "      <th>16</th>\n",
       "      <td>988665</td>\n",
       "      <td>2.0</td>\n",
       "    </tr>\n",
       "    <tr>\n",
       "      <th>17</th>\n",
       "      <td>988664</td>\n",
       "      <td>57.0</td>\n",
       "    </tr>\n",
       "    <tr>\n",
       "      <th>18</th>\n",
       "      <td>988663</td>\n",
       "      <td>16.0</td>\n",
       "    </tr>\n",
       "  </tbody>\n",
       "</table>\n",
       "</div>"
      ],
      "text/plain": [
       "    row_num  hits\n",
       "0    988681  37.0\n",
       "15   988666  43.0\n",
       "16   988665   2.0\n",
       "17   988664  57.0\n",
       "18   988663  16.0"
      ]
     },
     "execution_count": 275,
     "metadata": {},
     "output_type": "execute_result"
    }
   ],
   "source": [
    "y_pred.head()"
   ]
  },
  {
   "cell_type": "code",
   "execution_count": 276,
   "metadata": {},
   "outputs": [],
   "source": [
    "y_pred.to_csv('C:/Users/aghenda/Downloads/hits_predictions.csv')"
   ]
  },
  {
   "cell_type": "markdown",
   "metadata": {},
   "source": [
    "## 7. Conclusion\n",
    "<a id=\"conclusion\"></a>"
   ]
  },
  {
   "cell_type": "markdown",
   "metadata": {},
   "source": [
    "My objective was to build a model that predicts the number of hits per session.\n",
    "For that I used a data set composed of ~ 1 million entries whose features are \n",
    "\n",
    "- row_num: a number uniquely identifying each row.\n",
    "- locale: the platform of the session.\n",
    "- day_of_week: Mon-Fri, the day of the week of the session.\n",
    "- hour_of_day: 00-23, the hour of the day of the session.\n",
    "- agent_id: the device used for the session.\n",
    "- entry_page: describes the landing page of the session.\n",
    "- path_id_set: shows all the locations that were visited during the session.\n",
    "- traffic_type: indicates the channel the user came through eg. search engine, email, ...\n",
    "- session_duration: the duration in seconds of the session.\n",
    "- hits: the number of interactions with the trivago page during the session.\n",
    "\n",
    "By exploring the data set, I identified 3 major issues :\n",
    "\n",
    "1. There are missing values\n",
    "2. There are outliers in session_duration and hits\n",
    "3. The data distribution is very skewed (right-skewed)\n",
    "\n",
    "\n",
    "For the first issue, I noticed that values were missing for the attributes **session_duration** and **path_id_set**. 98% of the missing values for **session_duration** corcern sessions for which the **entry_page** is 8101 and the **traffic_type** is 1. I believe that there is a bug for that combination of attributes which makes the **session_duration** not being recorded, this would need to be cross-checked with the team that maintains the pipeline. \n",
    "\n",
    "For the second issue, boxplots visualization helped me identify outliers for attributes **session_duration** and **hits**.\n",
    "I then used outliers detection methods using Z-Score, modified Z-Score and isolation forest. Since Z-Score had the lowest proportion of outliers I decided to proceed with this technique.\n",
    "\n",
    "For the third issue, I noticed that the distribution of the data was right-skewed. Meaning that most of the data is concentrated within a certain range of values while the rest, which is consequent enough to not be considered outliers, is concentrated on a broader range. Given that certain values were very high compared to others, I decided to apply different preprocessing techniques : standard scaling, min-max scaling, log transformation and robust scaling.\n",
    "\n",
    "Finally, this is a regression task and therefore, I used the following models : linear regression, decision tree regressor, random forest regressor and XGBoost regressor. To evaluate the models and compare them, I used the root mean squared error (RMSE). The model with which we obtain the lowest RMSE (best score) is XGBoost."
   ]
  },
  {
   "cell_type": "code",
   "execution_count": null,
   "metadata": {},
   "outputs": [],
   "source": []
  }
 ],
 "metadata": {
  "kernelspec": {
   "display_name": "Python 3",
   "language": "python",
   "name": "python3"
  },
  "language_info": {
   "codemirror_mode": {
    "name": "ipython",
    "version": 3
   },
   "file_extension": ".py",
   "mimetype": "text/x-python",
   "name": "python",
   "nbconvert_exporter": "python",
   "pygments_lexer": "ipython3",
   "version": "3.7.3"
  }
 },
 "nbformat": 4,
 "nbformat_minor": 2
}
