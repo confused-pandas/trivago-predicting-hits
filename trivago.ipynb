{
 "cells": [
  {
   "cell_type": "markdown",
   "metadata": {},
   "source": [
    "# Introduction\n",
    "\n",
    "This notebook presents my approach to the problem called **_\"Build a model that predicts the number of hits per session.\"_** from Trivago."
   ]
  },
  {
   "cell_type": "markdown",
   "metadata": {},
   "source": [
    "## Table of Content\n",
    "\n",
    "- Summary Information\n",
    "- Analysis of missing values\n",
    "- Outliers detection\n",
    "- Input missing values\n",
    "- Predictions\n",
    "- Evaluation\n",
    "- Conclusion"
   ]
  },
  {
   "cell_type": "code",
   "execution_count": 229,
   "metadata": {},
   "outputs": [],
   "source": [
    "from string import ascii_letters\n",
    "import pandas as pd\n",
    "import seaborn as sns\n",
    "import numpy as np\n",
    "import matplotlib.pyplot as plt\n",
    "\n",
    "pd.options.mode.chained_assignment = None "
   ]
  },
  {
   "cell_type": "markdown",
   "metadata": {},
   "source": [
    "## 1. Summary information\n",
    "<a id=\"load\"></a>"
   ]
  },
  {
   "cell_type": "code",
   "execution_count": 230,
   "metadata": {},
   "outputs": [],
   "source": [
    "df = pd.read_csv('datasets/case_study/ML Data Scientist Case Study Data.csv', sep=\";\")\n",
    "#df = pd.read_csv('C:/Users/aghenda/Downloads/ML Data Scientist Case Study Data.csv', sep=\";\")"
   ]
  },
  {
   "cell_type": "code",
   "execution_count": 231,
   "metadata": {},
   "outputs": [],
   "source": [
    "train = df.loc[df.hits != '\\\\N'] # train set \n",
    "test = df.loc[df.hits == '\\\\N'] # test set"
   ]
  },
  {
   "cell_type": "code",
   "execution_count": 232,
   "metadata": {},
   "outputs": [
    {
     "name": "stdout",
     "output_type": "stream",
     "text": [
      "Training dataset:\n",
      "    row_num locale day_of_week  hour_of_day  agent_id  entry_page path_id_set  \\\n",
      "1   988680     L2    Thursday           22        10        2113     31965;0   \n",
      "2   988679     L4    Saturday           21         2        2100     0;78464   \n",
      "3   988678     L3    Saturday           19         8        2113       51462   \n",
      "4   988677     L2     Tuesday            6        10        2116     31931;0   \n",
      "5   988676     L3      Monday            1         8        2100           0   \n",
      "\n",
      "   traffic_type session_durantion hits  \n",
      "1             2                49   14  \n",
      "2             1              1892   14  \n",
      "3             6                 0    1  \n",
      "4             1                 2    3  \n",
      "5             1                 0    2   \n",
      " ---------------------------------------------------------------------------------------------------- \n",
      "Test dataset:\n",
      "     row_num locale day_of_week  hour_of_day  agent_id  entry_page  \\\n",
      "0    988681     L6      Monday           17         1        2111   \n",
      "15   988666     L3    Thursday           16        10        2700   \n",
      "16   988665     L4      Sunday           16        10        2113   \n",
      "17   988664     L3     Tuesday           19         6        2100   \n",
      "18   988663     L3      Friday           20        10        2111   \n",
      "\n",
      "      path_id_set  traffic_type session_durantion hits  \n",
      "0         31672;0             6              7037   \\N  \n",
      "15  0;34387;84765             1              5189   \\N  \n",
      "16        79148;0             4                 5   \\N  \n",
      "17  0;34602;34604             1              8041   \\N  \n",
      "18  34287;0;60579             2               117   \\N  \n"
     ]
    }
   ],
   "source": [
    "print('Training dataset:\\n', train.head(), '\\n','-'*100, '\\nTest dataset:\\n', test.head())"
   ]
  },
  {
   "cell_type": "code",
   "execution_count": 233,
   "metadata": {},
   "outputs": [
    {
     "name": "stdout",
     "output_type": "stream",
     "text": [
      "Number train entries: 619235 , Number test entries: 369446\n"
     ]
    }
   ],
   "source": [
    "print('Number train entries:', len(train), ', Number test entries:', len(test))"
   ]
  },
  {
   "cell_type": "code",
   "execution_count": 234,
   "metadata": {},
   "outputs": [
    {
     "name": "stdout",
     "output_type": "stream",
     "text": [
      "train column names and types:\n",
      "row_num               int64\n",
      "locale               object\n",
      "day_of_week          object\n",
      "hour_of_day           int64\n",
      "agent_id              int64\n",
      "entry_page            int64\n",
      "path_id_set          object\n",
      "traffic_type          int64\n",
      "session_durantion    object\n",
      "hits                 object\n",
      "dtype: object\n",
      "----------------------------\n",
      "test column names and types:\n",
      "row_num               int64\n",
      "locale               object\n",
      "day_of_week          object\n",
      "hour_of_day           int64\n",
      "agent_id              int64\n",
      "entry_page            int64\n",
      "path_id_set          object\n",
      "traffic_type          int64\n",
      "session_durantion    object\n",
      "hits                 object\n",
      "dtype: object\n"
     ]
    }
   ],
   "source": [
    "print('train column names and types:', train.dtypes, sep='\\n')\n",
    "print('-'*28)\n",
    "print('test column names and types:', test.dtypes, sep='\\n')"
   ]
  },
  {
   "cell_type": "code",
   "execution_count": 235,
   "metadata": {
    "scrolled": false
   },
   "outputs": [
    {
     "name": "stdout",
     "output_type": "stream",
     "text": [
      "Train data set:  \n",
      "\n",
      " row_num              619235\n",
      "locale               619235\n",
      "day_of_week          619235\n",
      "hour_of_day          619235\n",
      "agent_id             619235\n",
      "entry_page           619235\n",
      "path_id_set          616082\n",
      "traffic_type         619235\n",
      "session_durantion    619235\n",
      "hits                 619235\n",
      "dtype: int64 \n",
      "\n",
      "Test data set:  \n",
      "\n",
      " row_num              369446\n",
      "locale               369446\n",
      "day_of_week          369446\n",
      "hour_of_day          369446\n",
      "agent_id             369446\n",
      "entry_page           369446\n",
      "path_id_set          367710\n",
      "traffic_type         369446\n",
      "session_durantion    369446\n",
      "hits                 369446\n",
      "dtype: int64 \n",
      "\n"
     ]
    }
   ],
   "source": [
    "print('Train data set:  \\n\\n', train.count(), '\\n')\n",
    "print('Test data set:  \\n\\n', test.count(), '\\n')"
   ]
  },
  {
   "cell_type": "code",
   "execution_count": 236,
   "metadata": {
    "scrolled": false
   },
   "outputs": [
    {
     "name": "stdout",
     "output_type": "stream",
     "text": [
      "Columns and types :  \n",
      "\n",
      " row_num               int64\n",
      "locale               object\n",
      "day_of_week          object\n",
      "hour_of_day           int64\n",
      "agent_id              int64\n",
      "entry_page            int64\n",
      "path_id_set          object\n",
      "traffic_type          int64\n",
      "session_durantion    object\n",
      "hits                 object\n",
      "dtype: object \n",
      "\n"
     ]
    }
   ],
   "source": [
    "print('Columns and types :  \\n\\n', train.dtypes, '\\n')"
   ]
  },
  {
   "cell_type": "markdown",
   "metadata": {},
   "source": [
    "## 2. Handling missing values"
   ]
  },
  {
   "cell_type": "code",
   "execution_count": 237,
   "metadata": {},
   "outputs": [],
   "source": [
    "# We replace missing values denoted \\N with NaN\n",
    "train.replace('\\\\N', np.nan, inplace=True)\n",
    "test.replace('\\\\N', np.nan, inplace=True)"
   ]
  },
  {
   "cell_type": "code",
   "execution_count": 238,
   "metadata": {},
   "outputs": [
    {
     "name": "stdout",
     "output_type": "stream",
     "text": [
      "All entries in train set have non-null row_num : True\n",
      "All entries in train set have non-null locale : True\n",
      "All entries in train set have non-null day_of_week : True\n",
      "All entries in train set have non-null hour_of_day : True\n",
      "All entries in train set have non-null agent_id : True\n",
      "All entries in train set have non-null entry_page : True\n",
      "All entries in train set have non-null path_id_set : False\n",
      "All entries in train set have non-null traffic_type : True\n",
      "All entries in train set have non-null session_durantion : False\n",
      "All entries in train set have non-null hits : True\n"
     ]
    }
   ],
   "source": [
    "df_columns = list(df.columns)\n",
    "for column in df_columns:\n",
    "    print('All entries in train set have non-null', column ,':', ~train[column].isnull().any())"
   ]
  },
  {
   "cell_type": "code",
   "execution_count": 239,
   "metadata": {},
   "outputs": [
    {
     "name": "stdout",
     "output_type": "stream",
     "text": [
      "All entries in test set have non-null row_num : True\n",
      "All entries in test set have non-null locale : True\n",
      "All entries in test set have non-null day_of_week : True\n",
      "All entries in test set have non-null hour_of_day : True\n",
      "All entries in test set have non-null agent_id : True\n",
      "All entries in test set have non-null entry_page : True\n",
      "All entries in test set have non-null path_id_set : False\n",
      "All entries in test set have non-null traffic_type : True\n",
      "All entries in test set have non-null session_durantion : False\n",
      "All entries in test set have non-null hits : False\n"
     ]
    }
   ],
   "source": [
    "for column in df_columns:\n",
    "    print('All entries in test set have non-null', column ,':', ~test[column].isnull().any())"
   ]
  },
  {
   "cell_type": "markdown",
   "metadata": {},
   "source": [
    "Train data set: **path_id_set** and **session_durantion** contains missing values <br>\n",
    "Test data set: **path_id_set**,  **session_durantion** and **hits** contains missing values\n",
    "\n",
    "Let's now look at the proportion of missing values."
   ]
  },
  {
   "cell_type": "code",
   "execution_count": 240,
   "metadata": {},
   "outputs": [
    {
     "name": "stdout",
     "output_type": "stream",
     "text": [
      "Percentage of missing values for feature row_num : 0.0 %\n",
      "Percentage of missing values for feature locale : 0.0 %\n",
      "Percentage of missing values for feature day_of_week : 0.0 %\n",
      "Percentage of missing values for feature hour_of_day : 0.0 %\n",
      "Percentage of missing values for feature agent_id : 0.0 %\n",
      "Percentage of missing values for feature entry_page : 0.0 %\n",
      "Percentage of missing values for feature path_id_set : 0.51 %\n",
      "Percentage of missing values for feature traffic_type : 0.0 %\n",
      "Percentage of missing values for feature session_durantion : 0.07 %\n",
      "Percentage of missing values for feature hits : 0.0 %\n"
     ]
    }
   ],
   "source": [
    "df_columns = list(df.columns)\n",
    "for column in df_columns:\n",
    "    print('Percentage of missing values for feature', column ,':', round((train[column].isnull().sum()/len(train))*100, 2), '%')"
   ]
  },
  {
   "cell_type": "code",
   "execution_count": 241,
   "metadata": {},
   "outputs": [
    {
     "name": "stdout",
     "output_type": "stream",
     "text": [
      "Percentage of missing values for feature row_num : 0.0 %\n",
      "Percentage of missing values for feature locale : 0.0 %\n",
      "Percentage of missing values for feature day_of_week : 0.0 %\n",
      "Percentage of missing values for feature hour_of_day : 0.0 %\n",
      "Percentage of missing values for feature agent_id : 0.0 %\n",
      "Percentage of missing values for feature entry_page : 0.0 %\n",
      "Percentage of missing values for feature path_id_set : 0.47 %\n",
      "Percentage of missing values for feature traffic_type : 0.0 %\n",
      "Percentage of missing values for feature session_durantion : 0.07 %\n",
      "Percentage of missing values for feature hits : 100.0 %\n"
     ]
    }
   ],
   "source": [
    "df_columns = list(df.columns)\n",
    "for column in df_columns:\n",
    "    print('Percentage of missing values for feature', column ,':', round((test[column].isnull().sum()/len(test))*100, 2), '%')"
   ]
  },
  {
   "cell_type": "markdown",
   "metadata": {},
   "source": [
    "Globally the proportions of missing values are very low for the train set. <br>\n",
    "I do not think that it is advisable to try to input **path_id_set**. Therefore, I decide to drop these rows. <br>\n",
    "For **session_durantion**, I will find a strategy to input the missing values since they only represent 0.07%.\n",
    "\n",
    "In the test set, same observations can be made.The percentage of missing values for hits is 100% but it is normal since we split our train / test set based on these missing values."
   ]
  },
  {
   "cell_type": "code",
   "execution_count": 242,
   "metadata": {},
   "outputs": [],
   "source": [
    "train.dropna(subset = ['path_id_set'], inplace=True)\n",
    "test.dropna(subset = ['path_id_set'], inplace=True)"
   ]
  },
  {
   "cell_type": "markdown",
   "metadata": {},
   "source": [
    "### Missing values: session_duration"
   ]
  },
  {
   "cell_type": "code",
   "execution_count": 243,
   "metadata": {},
   "outputs": [
    {
     "data": {
      "text/html": [
       "<div>\n",
       "<style scoped>\n",
       "    .dataframe tbody tr th:only-of-type {\n",
       "        vertical-align: middle;\n",
       "    }\n",
       "\n",
       "    .dataframe tbody tr th {\n",
       "        vertical-align: top;\n",
       "    }\n",
       "\n",
       "    .dataframe thead th {\n",
       "        text-align: right;\n",
       "    }\n",
       "</style>\n",
       "<table border=\"1\" class=\"dataframe\">\n",
       "  <thead>\n",
       "    <tr style=\"text-align: right;\">\n",
       "      <th></th>\n",
       "      <th>row_num</th>\n",
       "      <th>locale</th>\n",
       "      <th>day_of_week</th>\n",
       "      <th>hour_of_day</th>\n",
       "      <th>agent_id</th>\n",
       "      <th>entry_page</th>\n",
       "      <th>path_id_set</th>\n",
       "      <th>traffic_type</th>\n",
       "      <th>session_durantion</th>\n",
       "      <th>hits</th>\n",
       "    </tr>\n",
       "  </thead>\n",
       "  <tbody>\n",
       "    <tr>\n",
       "      <th>3562</th>\n",
       "      <td>985119</td>\n",
       "      <td>L3</td>\n",
       "      <td>Monday</td>\n",
       "      <td>0</td>\n",
       "      <td>8</td>\n",
       "      <td>8101</td>\n",
       "      <td>0</td>\n",
       "      <td>1</td>\n",
       "      <td>NaN</td>\n",
       "      <td>1</td>\n",
       "    </tr>\n",
       "    <tr>\n",
       "      <th>9948</th>\n",
       "      <td>978733</td>\n",
       "      <td>L2</td>\n",
       "      <td>Friday</td>\n",
       "      <td>7</td>\n",
       "      <td>7</td>\n",
       "      <td>8101</td>\n",
       "      <td>0</td>\n",
       "      <td>1</td>\n",
       "      <td>NaN</td>\n",
       "      <td>1</td>\n",
       "    </tr>\n",
       "    <tr>\n",
       "      <th>14262</th>\n",
       "      <td>974419</td>\n",
       "      <td>L3</td>\n",
       "      <td>Saturday</td>\n",
       "      <td>18</td>\n",
       "      <td>13</td>\n",
       "      <td>8101</td>\n",
       "      <td>0</td>\n",
       "      <td>1</td>\n",
       "      <td>NaN</td>\n",
       "      <td>1</td>\n",
       "    </tr>\n",
       "    <tr>\n",
       "      <th>20065</th>\n",
       "      <td>968616</td>\n",
       "      <td>L6</td>\n",
       "      <td>Tuesday</td>\n",
       "      <td>16</td>\n",
       "      <td>9</td>\n",
       "      <td>8101</td>\n",
       "      <td>0</td>\n",
       "      <td>1</td>\n",
       "      <td>NaN</td>\n",
       "      <td>1</td>\n",
       "    </tr>\n",
       "    <tr>\n",
       "      <th>21926</th>\n",
       "      <td>966755</td>\n",
       "      <td>L3</td>\n",
       "      <td>Wednesday</td>\n",
       "      <td>4</td>\n",
       "      <td>9</td>\n",
       "      <td>8101</td>\n",
       "      <td>0</td>\n",
       "      <td>1</td>\n",
       "      <td>NaN</td>\n",
       "      <td>1</td>\n",
       "    </tr>\n",
       "    <tr>\n",
       "      <th>24090</th>\n",
       "      <td>964591</td>\n",
       "      <td>L3</td>\n",
       "      <td>Tuesday</td>\n",
       "      <td>3</td>\n",
       "      <td>8</td>\n",
       "      <td>8101</td>\n",
       "      <td>0</td>\n",
       "      <td>1</td>\n",
       "      <td>NaN</td>\n",
       "      <td>1</td>\n",
       "    </tr>\n",
       "    <tr>\n",
       "      <th>24123</th>\n",
       "      <td>964558</td>\n",
       "      <td>L2</td>\n",
       "      <td>Tuesday</td>\n",
       "      <td>11</td>\n",
       "      <td>2</td>\n",
       "      <td>8101</td>\n",
       "      <td>0</td>\n",
       "      <td>1</td>\n",
       "      <td>NaN</td>\n",
       "      <td>1</td>\n",
       "    </tr>\n",
       "    <tr>\n",
       "      <th>26247</th>\n",
       "      <td>962434</td>\n",
       "      <td>L2</td>\n",
       "      <td>Thursday</td>\n",
       "      <td>7</td>\n",
       "      <td>2</td>\n",
       "      <td>8101</td>\n",
       "      <td>0</td>\n",
       "      <td>1</td>\n",
       "      <td>NaN</td>\n",
       "      <td>1</td>\n",
       "    </tr>\n",
       "    <tr>\n",
       "      <th>26990</th>\n",
       "      <td>961691</td>\n",
       "      <td>L2</td>\n",
       "      <td>Monday</td>\n",
       "      <td>11</td>\n",
       "      <td>7</td>\n",
       "      <td>8101</td>\n",
       "      <td>0</td>\n",
       "      <td>1</td>\n",
       "      <td>NaN</td>\n",
       "      <td>1</td>\n",
       "    </tr>\n",
       "    <tr>\n",
       "      <th>30190</th>\n",
       "      <td>958491</td>\n",
       "      <td>L1</td>\n",
       "      <td>Wednesday</td>\n",
       "      <td>2</td>\n",
       "      <td>8</td>\n",
       "      <td>8101</td>\n",
       "      <td>0</td>\n",
       "      <td>1</td>\n",
       "      <td>NaN</td>\n",
       "      <td>1</td>\n",
       "    </tr>\n",
       "  </tbody>\n",
       "</table>\n",
       "</div>"
      ],
      "text/plain": [
       "       row_num locale day_of_week  hour_of_day  agent_id  entry_page  \\\n",
       "3562    985119     L3      Monday            0         8        8101   \n",
       "9948    978733     L2      Friday            7         7        8101   \n",
       "14262   974419     L3    Saturday           18        13        8101   \n",
       "20065   968616     L6     Tuesday           16         9        8101   \n",
       "21926   966755     L3   Wednesday            4         9        8101   \n",
       "24090   964591     L3     Tuesday            3         8        8101   \n",
       "24123   964558     L2     Tuesday           11         2        8101   \n",
       "26247   962434     L2    Thursday            7         2        8101   \n",
       "26990   961691     L2      Monday           11         7        8101   \n",
       "30190   958491     L1   Wednesday            2         8        8101   \n",
       "\n",
       "      path_id_set  traffic_type session_durantion hits  \n",
       "3562            0             1               NaN    1  \n",
       "9948            0             1               NaN    1  \n",
       "14262           0             1               NaN    1  \n",
       "20065           0             1               NaN    1  \n",
       "21926           0             1               NaN    1  \n",
       "24090           0             1               NaN    1  \n",
       "24123           0             1               NaN    1  \n",
       "26247           0             1               NaN    1  \n",
       "26990           0             1               NaN    1  \n",
       "30190           0             1               NaN    1  "
      ]
     },
     "execution_count": 243,
     "metadata": {},
     "output_type": "execute_result"
    }
   ],
   "source": [
    "# Let's have a quick look at the rows for which session_durantion is missing.\n",
    "train[train.session_durantion.isnull()].head(10)"
   ]
  },
  {
   "cell_type": "code",
   "execution_count": 244,
   "metadata": {},
   "outputs": [
    {
     "data": {
      "text/html": [
       "<div>\n",
       "<style scoped>\n",
       "    .dataframe tbody tr th:only-of-type {\n",
       "        vertical-align: middle;\n",
       "    }\n",
       "\n",
       "    .dataframe tbody tr th {\n",
       "        vertical-align: top;\n",
       "    }\n",
       "\n",
       "    .dataframe thead th {\n",
       "        text-align: right;\n",
       "    }\n",
       "</style>\n",
       "<table border=\"1\" class=\"dataframe\">\n",
       "  <thead>\n",
       "    <tr style=\"text-align: right;\">\n",
       "      <th></th>\n",
       "      <th>row_num</th>\n",
       "      <th>locale</th>\n",
       "      <th>day_of_week</th>\n",
       "      <th>hour_of_day</th>\n",
       "      <th>agent_id</th>\n",
       "      <th>entry_page</th>\n",
       "      <th>path_id_set</th>\n",
       "      <th>traffic_type</th>\n",
       "      <th>session_durantion</th>\n",
       "      <th>hits</th>\n",
       "    </tr>\n",
       "  </thead>\n",
       "  <tbody>\n",
       "    <tr>\n",
       "      <th>1153</th>\n",
       "      <td>987528</td>\n",
       "      <td>L3</td>\n",
       "      <td>Thursday</td>\n",
       "      <td>0</td>\n",
       "      <td>0</td>\n",
       "      <td>2226</td>\n",
       "      <td>34911;0</td>\n",
       "      <td>1</td>\n",
       "      <td>NaN</td>\n",
       "      <td>NaN</td>\n",
       "    </tr>\n",
       "    <tr>\n",
       "      <th>5171</th>\n",
       "      <td>983510</td>\n",
       "      <td>L6</td>\n",
       "      <td>Friday</td>\n",
       "      <td>15</td>\n",
       "      <td>6</td>\n",
       "      <td>8101</td>\n",
       "      <td>0</td>\n",
       "      <td>1</td>\n",
       "      <td>NaN</td>\n",
       "      <td>NaN</td>\n",
       "    </tr>\n",
       "    <tr>\n",
       "      <th>5349</th>\n",
       "      <td>983332</td>\n",
       "      <td>L2</td>\n",
       "      <td>Friday</td>\n",
       "      <td>19</td>\n",
       "      <td>7</td>\n",
       "      <td>8101</td>\n",
       "      <td>0</td>\n",
       "      <td>1</td>\n",
       "      <td>NaN</td>\n",
       "      <td>NaN</td>\n",
       "    </tr>\n",
       "    <tr>\n",
       "      <th>5563</th>\n",
       "      <td>983118</td>\n",
       "      <td>L3</td>\n",
       "      <td>Tuesday</td>\n",
       "      <td>14</td>\n",
       "      <td>9</td>\n",
       "      <td>8101</td>\n",
       "      <td>0</td>\n",
       "      <td>1</td>\n",
       "      <td>NaN</td>\n",
       "      <td>NaN</td>\n",
       "    </tr>\n",
       "    <tr>\n",
       "      <th>7816</th>\n",
       "      <td>980865</td>\n",
       "      <td>L1</td>\n",
       "      <td>Saturday</td>\n",
       "      <td>6</td>\n",
       "      <td>6</td>\n",
       "      <td>8101</td>\n",
       "      <td>0</td>\n",
       "      <td>1</td>\n",
       "      <td>NaN</td>\n",
       "      <td>NaN</td>\n",
       "    </tr>\n",
       "    <tr>\n",
       "      <th>9351</th>\n",
       "      <td>979330</td>\n",
       "      <td>L1</td>\n",
       "      <td>Sunday</td>\n",
       "      <td>14</td>\n",
       "      <td>7</td>\n",
       "      <td>8101</td>\n",
       "      <td>0</td>\n",
       "      <td>1</td>\n",
       "      <td>NaN</td>\n",
       "      <td>NaN</td>\n",
       "    </tr>\n",
       "    <tr>\n",
       "      <th>12791</th>\n",
       "      <td>975890</td>\n",
       "      <td>L6</td>\n",
       "      <td>Sunday</td>\n",
       "      <td>15</td>\n",
       "      <td>8</td>\n",
       "      <td>8101</td>\n",
       "      <td>0</td>\n",
       "      <td>1</td>\n",
       "      <td>NaN</td>\n",
       "      <td>NaN</td>\n",
       "    </tr>\n",
       "    <tr>\n",
       "      <th>15200</th>\n",
       "      <td>973481</td>\n",
       "      <td>L3</td>\n",
       "      <td>Saturday</td>\n",
       "      <td>15</td>\n",
       "      <td>9</td>\n",
       "      <td>8101</td>\n",
       "      <td>0</td>\n",
       "      <td>1</td>\n",
       "      <td>NaN</td>\n",
       "      <td>NaN</td>\n",
       "    </tr>\n",
       "    <tr>\n",
       "      <th>32428</th>\n",
       "      <td>956253</td>\n",
       "      <td>L3</td>\n",
       "      <td>Tuesday</td>\n",
       "      <td>0</td>\n",
       "      <td>9</td>\n",
       "      <td>8101</td>\n",
       "      <td>0</td>\n",
       "      <td>1</td>\n",
       "      <td>NaN</td>\n",
       "      <td>NaN</td>\n",
       "    </tr>\n",
       "    <tr>\n",
       "      <th>33574</th>\n",
       "      <td>955107</td>\n",
       "      <td>L6</td>\n",
       "      <td>Wednesday</td>\n",
       "      <td>9</td>\n",
       "      <td>9</td>\n",
       "      <td>8101</td>\n",
       "      <td>0</td>\n",
       "      <td>1</td>\n",
       "      <td>NaN</td>\n",
       "      <td>NaN</td>\n",
       "    </tr>\n",
       "  </tbody>\n",
       "</table>\n",
       "</div>"
      ],
      "text/plain": [
       "       row_num locale day_of_week  hour_of_day  agent_id  entry_page  \\\n",
       "1153    987528     L3    Thursday            0         0        2226   \n",
       "5171    983510     L6      Friday           15         6        8101   \n",
       "5349    983332     L2      Friday           19         7        8101   \n",
       "5563    983118     L3     Tuesday           14         9        8101   \n",
       "7816    980865     L1    Saturday            6         6        8101   \n",
       "9351    979330     L1      Sunday           14         7        8101   \n",
       "12791   975890     L6      Sunday           15         8        8101   \n",
       "15200   973481     L3    Saturday           15         9        8101   \n",
       "32428   956253     L3     Tuesday            0         9        8101   \n",
       "33574   955107     L6   Wednesday            9         9        8101   \n",
       "\n",
       "      path_id_set  traffic_type session_durantion  hits  \n",
       "1153      34911;0             1               NaN   NaN  \n",
       "5171            0             1               NaN   NaN  \n",
       "5349            0             1               NaN   NaN  \n",
       "5563            0             1               NaN   NaN  \n",
       "7816            0             1               NaN   NaN  \n",
       "9351            0             1               NaN   NaN  \n",
       "12791           0             1               NaN   NaN  \n",
       "15200           0             1               NaN   NaN  \n",
       "32428           0             1               NaN   NaN  \n",
       "33574           0             1               NaN   NaN  "
      ]
     },
     "execution_count": 244,
     "metadata": {},
     "output_type": "execute_result"
    }
   ],
   "source": [
    "test[test.session_durantion.isnull()].head(10)"
   ]
  },
  {
   "cell_type": "markdown",
   "metadata": {},
   "source": [
    "A first observation we can make is that it seems to particularly concern the entry page 8101, the traffic_type 1 and the path_id_set is 0. But let's dig more into that to understand what's happening."
   ]
  },
  {
   "cell_type": "code",
   "execution_count": 245,
   "metadata": {},
   "outputs": [
    {
     "data": {
      "text/plain": [
       "<matplotlib.axes._subplots.AxesSubplot at 0x13222e9de10>"
      ]
     },
     "execution_count": 245,
     "metadata": {},
     "output_type": "execute_result"
    },
    {
     "data": {
      "image/png": "[encoded data removed]",
      "text/plain": [
       "<Figure size 1080x360 with 2 Axes>"
      ]
     },
     "metadata": {
      "needs_background": "light"
     },
     "output_type": "display_data"
    }
   ],
   "source": [
    "f, ax = plt.subplots(1,2, figsize=(15,5))\n",
    "train[train.session_durantion.isnull()].entry_page.value_counts().plot('bar', ax=ax[0], color='#007faf', legend=True, title='#Rows / Entry page (train set missing values: session_duration)')\n",
    "test[test.session_durantion.isnull()].entry_page.value_counts().plot('bar', ax=ax[1], legend=True, title='#Rows / Entry page (test set missing values: session_duration)')"
   ]
  },
  {
   "cell_type": "markdown",
   "metadata": {},
   "source": [
    "Now it is obvious that there is a problem with the entry page 8101."
   ]
  },
  {
   "cell_type": "code",
   "execution_count": 246,
   "metadata": {},
   "outputs": [
    {
     "name": "stdout",
     "output_type": "stream",
     "text": [
      "Train set: Traffic type for which the session_duration is missing: [1]\n",
      "Test set: Traffic type for which the session_duration is missing: [1]\n"
     ]
    }
   ],
   "source": [
    "print('Train set: Traffic type for which the session_duration is missing:', train[train.session_durantion.isnull()].traffic_type.unique())\n",
    "print('Test set: Traffic type for which the session_duration is missing:', test[test.session_durantion.isnull()].traffic_type.unique())"
   ]
  },
  {
   "cell_type": "code",
   "execution_count": 247,
   "metadata": {},
   "outputs": [
    {
     "name": "stdout",
     "output_type": "stream",
     "text": [
      "Train set: proportion of rows with entry page 8101 and traffic type 1 concerned by the absence of session_durantion: 98.09 %\n",
      "Test set: proportion of rows with entry page 8101 and traffic type 1 concerned by the absence of session_durantion: 99.21 %\n"
     ]
    }
   ],
   "source": [
    "print('Train set: proportion of rows with entry page 8101 and traffic type 1 concerned by the absence of session_durantion:', round(len(train[(train['session_durantion'].isnull()) & (train.entry_page == 8101) & (train.traffic_type == 1)])/len(train[(train.entry_page == 8101)])*100, 2), '%')\n",
    "print('Test set: proportion of rows with entry page 8101 and traffic type 1 concerned by the absence of session_durantion:', round(len(test[(test['session_durantion'].isnull()) & (test.entry_page == 8101) & (test.traffic_type == 1)])/len(test[(test.entry_page == 8101)])*100, 2), '%')"
   ]
  },
  {
   "cell_type": "markdown",
   "metadata": {},
   "source": [
    "Traffic type 1 is the only one concerned by the missing values. I believe that there might be a problem with the entry page 8101 from the traffic type 1. I would crosscheck that with the web dev team to have more information. \n",
    "\n",
    "Now we want to input the missing values. However, the distribution of data is not normal and there are values that we believe are outliers. We will first deal with them before we use statistical measures to input the missing values."
   ]
  },
  {
   "cell_type": "markdown",
   "metadata": {},
   "source": [
    "## 3. Outliers detection"
   ]
  },
  {
   "cell_type": "markdown",
   "metadata": {},
   "source": [
    "### Z-score"
   ]
  },
  {
   "cell_type": "code",
   "execution_count": 248,
   "metadata": {},
   "outputs": [],
   "source": [
    "def zscore(series, threshold=3):\n",
    "    z_score = (series-np.mean(series))/np.std(series)\n",
    "    return np.abs(z_score) > threshold"
   ]
  },
  {
   "cell_type": "markdown",
   "metadata": {},
   "source": [
    "### Modified Z-score"
   ]
  },
  {
   "cell_type": "code",
   "execution_count": 249,
   "metadata": {},
   "outputs": [],
   "source": [
    "def modified_zscore(series, threshold=3):\n",
    "    modified_z_score = 0.6745*(series-np.median(series))/series.mad()\n",
    "    return np.abs(modified_z_score) > threshold"
   ]
  },
  {
   "cell_type": "markdown",
   "metadata": {},
   "source": [
    "### Isolation forest"
   ]
  },
  {
   "cell_type": "code",
   "execution_count": 250,
   "metadata": {},
   "outputs": [],
   "source": [
    "from sklearn.ensemble import IsolationForest"
   ]
  },
  {
   "cell_type": "code",
   "execution_count": 251,
   "metadata": {},
   "outputs": [],
   "source": [
    "def isolation_forest(series):\n",
    "    clf = IsolationForest(behaviour='new', contamination='auto', random_state=0)\n",
    "    series = series.values.reshape(-1, 1)\n",
    "    clf.fit(series)\n",
    "    return clf.predict(series)"
   ]
  },
  {
   "cell_type": "markdown",
   "metadata": {},
   "source": [
    "### Comparing outliers detection techniques"
   ]
  },
  {
   "cell_type": "code",
   "execution_count": 252,
   "metadata": {},
   "outputs": [],
   "source": [
    "def get_proportion(series, inf, sup):\n",
    "    return round((len(series[(series > inf) & (series < sup)]) / len(series))*100, 2)"
   ]
  },
  {
   "cell_type": "code",
   "execution_count": 253,
   "metadata": {},
   "outputs": [],
   "source": [
    "def outlier_print(title, inliers, series):\n",
    "    print('Outlier detection: {} identified outliers outside of the range [{}, {}]. Resulting outlier proportion: {}%.'.format(title, round(min(inliers)), round(max(inliers)), get_proportion(series, max(inliers), max(series)+1)))"
   ]
  },
  {
   "cell_type": "code",
   "execution_count": 254,
   "metadata": {},
   "outputs": [],
   "source": [
    "def outliers_detection(series):\n",
    "    inliers_zscore = series[~zscore(series)]\n",
    "    outlier_print('Z-Score', inliers_zscore, series)\n",
    "    inliers_modified_zscore = series[~modified_zscore(series)]\n",
    "    outlier_print('Modified Z-Score', inliers_modified_zscore, series)\n",
    "    inliers_isolation_forest = series[isolation_forest(series) == 1]\n",
    "    outlier_print('Isolation Forest', inliers_isolation_forest, series)"
   ]
  },
  {
   "cell_type": "code",
   "execution_count": 255,
   "metadata": {},
   "outputs": [],
   "source": [
    "# I exclude the missing values to find the outliers\n",
    "train_without_missing_session = train[~train.session_durantion.isnull()]"
   ]
  },
  {
   "cell_type": "code",
   "execution_count": 256,
   "metadata": {},
   "outputs": [],
   "source": [
    "train_without_missing_session.session_durantion = train_without_missing_session.session_durantion.astype('int')\n",
    "train_without_missing_session.hits = train_without_missing_session.hits.astype('int')"
   ]
  },
  {
   "cell_type": "code",
   "execution_count": 257,
   "metadata": {},
   "outputs": [
    {
     "data": {
      "text/plain": [
       "row_num               int64\n",
       "locale               object\n",
       "day_of_week          object\n",
       "hour_of_day           int64\n",
       "agent_id              int64\n",
       "entry_page            int64\n",
       "path_id_set          object\n",
       "traffic_type          int64\n",
       "session_durantion     int32\n",
       "hits                  int32\n",
       "dtype: object"
      ]
     },
     "execution_count": 257,
     "metadata": {},
     "output_type": "execute_result"
    }
   ],
   "source": [
    "train_without_missing_session.dtypes"
   ]
  },
  {
   "cell_type": "markdown",
   "metadata": {},
   "source": [
    "##### Outliers detection: Session duration"
   ]
  },
  {
   "cell_type": "code",
   "execution_count": 258,
   "metadata": {},
   "outputs": [
    {
     "name": "stdout",
     "output_type": "stream",
     "text": [
      "Outlier detection: Z-Score identified outliers outside of the range [0, 6245]. Resulting outlier proportion: 0.68%.\n",
      "Outlier detection: Modified Z-Score identified outliers outside of the range [0, 2996]. Resulting outlier proportion: 3.33%.\n",
      "Outlier detection: Isolation Forest identified outliers outside of the range [0, 579]. Resulting outlier proportion: 17.84%.\n"
     ]
    }
   ],
   "source": [
    "outliers_detection(train_without_missing_session.session_durantion)"
   ]
  },
  {
   "cell_type": "markdown",
   "metadata": {},
   "source": [
    "##### Outliers detection: Hits"
   ]
  },
  {
   "cell_type": "code",
   "execution_count": 259,
   "metadata": {
    "scrolled": true
   },
   "outputs": [
    {
     "name": "stdout",
     "output_type": "stream",
     "text": [
      "Outlier detection: Z-Score identified outliers outside of the range [1, 135]. Resulting outlier proportion: 1.43%.\n",
      "Outlier detection: Modified Z-Score identified outliers outside of the range [1, 86]. Resulting outlier proportion: 3.23%.\n",
      "Outlier detection: Isolation Forest identified outliers outside of the range [2, 32]. Resulting outlier proportion: 13.88%.\n"
     ]
    }
   ],
   "source": [
    "outliers_detection(train_without_missing_session.hits)"
   ]
  },
  {
   "cell_type": "markdown",
   "metadata": {},
   "source": [
    "We will use the Z-score that has the lowest proportion and drop the outliers."
   ]
  },
  {
   "cell_type": "code",
   "execution_count": 260,
   "metadata": {},
   "outputs": [],
   "source": [
    "def drop_outliers(df, column, mode=1):\n",
    "    \"\"\" mode:\n",
    "                1: Z-Score\n",
    "                2: Modified Z-Score\n",
    "                else: Isolation Forest\n",
    "    \"\"\"\n",
    "    if mode == 1:\n",
    "        inliers_zscore = df[column][~zscore(df[column])]\n",
    "        max_inliers = round(max(inliers_zscore))\n",
    "        df = df[df[column] < max_inliers] \n",
    "    elif mode == 2:\n",
    "        inliers_modified_zscore = df[column][~modified_zscore(df[column])]\n",
    "        max_inliers = round(max(inliers_modified_zscore))\n",
    "        df = df[df[column] < max_inliers] \n",
    "    else:\n",
    "        inliers_isolation_forest = df[column][isolation_forest(df[column]) == 1]\n",
    "        max_inliers = round(max(inliers_isolation_forest))\n",
    "        df = df[df[column] < max_inliers]    \n",
    "    return df"
   ]
  },
  {
   "cell_type": "code",
   "execution_count": 261,
   "metadata": {
    "scrolled": true
   },
   "outputs": [],
   "source": [
    "train_without_missing_session = drop_outliers(train_without_missing_session, 'session_durantion', mode=1)"
   ]
  },
  {
   "cell_type": "code",
   "execution_count": 262,
   "metadata": {},
   "outputs": [],
   "source": [
    "train_without_missing_session = drop_outliers(train_without_missing_session, 'hits', mode=1)"
   ]
  },
  {
   "cell_type": "code",
   "execution_count": 263,
   "metadata": {
    "scrolled": true
   },
   "outputs": [
    {
     "data": {
      "text/plain": [
       "602070"
      ]
     },
     "execution_count": 263,
     "metadata": {},
     "output_type": "execute_result"
    }
   ],
   "source": [
    "len(train_without_missing_session)"
   ]
  },
  {
   "cell_type": "code",
   "execution_count": 264,
   "metadata": {},
   "outputs": [],
   "source": [
    "# I concatenate missing sessions with the data set from which I removed outliers\n",
    "train_only_missing_session = train[train.session_durantion.isnull()]\n",
    "train = pd.concat([train_without_missing_session, train_only_missing_session])"
   ]
  },
  {
   "cell_type": "markdown",
   "metadata": {},
   "source": [
    "## 4. Input missing values"
   ]
  },
  {
   "cell_type": "markdown",
   "metadata": {},
   "source": [
    "### Feature: Session duration"
   ]
  },
  {
   "cell_type": "code",
   "execution_count": 265,
   "metadata": {},
   "outputs": [
    {
     "name": "stderr",
     "output_type": "stream",
     "text": [
      "c:\\users\\najib\\appdata\\local\\programs\\python\\python37\\lib\\site-packages\\scipy\\stats\\stats.py:1713: FutureWarning: Using a non-tuple sequence for multidimensional indexing is deprecated; use `arr[tuple(seq)]` instead of `arr[seq]`. In the future this will be interpreted as an array index, `arr[np.array(seq)]`, which will result either in an error or a different result.\n",
      "  return np.add.reduce(sorted[indexer] * weights, axis=axis) / sumval\n"
     ]
    },
    {
     "data": {
      "text/plain": [
       "<matplotlib.axes._subplots.AxesSubplot at 0x1321e80e3c8>"
      ]
     },
     "execution_count": 265,
     "metadata": {},
     "output_type": "execute_result"
    },
    {
     "data": {
      "image/png": "[encoded data removed]",
      "text/plain": [
       "<Figure size 1080x360 with 2 Axes>"
      ]
     },
     "metadata": {
      "needs_background": "light"
     },
     "output_type": "display_data"
    }
   ],
   "source": [
    "f, axes = plt.subplots(1, 2, figsize=(15,5))\n",
    "\n",
    "sns.violinplot(train[~train.session_durantion.isnull()].session_durantion.astype('int32'), ax=axes[0])\n",
    "sns.distplot(train[~train.session_durantion.isnull()].session_durantion.astype('int32'), ax=axes[1])"
   ]
  },
  {
   "cell_type": "markdown",
   "metadata": {},
   "source": [
    "By looking at the boxplot and the distplot, we can make two observations:\n",
    "\n",
    "1. Feature session_durantion is very skewed.\n",
    "2. The majority of the data is concentrated between 0-1000\n",
    "\n",
    "It makes me think that the mean would not be relevant. However, the median is this case makes more sense."
   ]
  },
  {
   "cell_type": "code",
   "execution_count": 266,
   "metadata": {},
   "outputs": [],
   "source": [
    "train.session_durantion.replace(np.nan, train.session_durantion.median(), inplace=True)"
   ]
  },
  {
   "cell_type": "code",
   "execution_count": 267,
   "metadata": {},
   "outputs": [
    {
     "name": "stdout",
     "output_type": "stream",
     "text": [
      "All entries in train set have non-null row_num : True\n",
      "All entries in train set have non-null locale : True\n",
      "All entries in train set have non-null day_of_week : True\n",
      "All entries in train set have non-null hour_of_day : True\n",
      "All entries in train set have non-null agent_id : True\n",
      "All entries in train set have non-null entry_page : True\n",
      "All entries in train set have non-null path_id_set : True\n",
      "All entries in train set have non-null traffic_type : True\n",
      "All entries in train set have non-null session_durantion : True\n",
      "All entries in train set have non-null hits : True\n"
     ]
    }
   ],
   "source": [
    "df_columns = list(df.columns)\n",
    "for column in df_columns:\n",
    "    print('All entries in train set have non-null', column ,':', ~train[column].isnull().any())"
   ]
  },
  {
   "cell_type": "markdown",
   "metadata": {},
   "source": [
    "## 5. Data Preprocessing"
   ]
  },
  {
   "cell_type": "markdown",
   "metadata": {},
   "source": [
    "#### Min-Max normalization"
   ]
  },
  {
   "cell_type": "code",
   "execution_count": 268,
   "metadata": {},
   "outputs": [],
   "source": [
    "def min_max(series):\n",
    "    series = (series - min(series)) / (max(series) - min(series))\n",
    "    return series"
   ]
  },
  {
   "cell_type": "markdown",
   "metadata": {},
   "source": [
    "#### Z-Score normalization"
   ]
  },
  {
   "cell_type": "code",
   "execution_count": 269,
   "metadata": {},
   "outputs": [],
   "source": [
    "def zscore_norm(series):\n",
    "    series = (series - series.mean()) / series.std()\n",
    "    return series"
   ]
  },
  {
   "cell_type": "markdown",
   "metadata": {},
   "source": [
    "#### Log-Transformation"
   ]
  },
  {
   "cell_type": "code",
   "execution_count": 270,
   "metadata": {},
   "outputs": [],
   "source": [
    "def log_transformation(series):\n",
    "    series = series.apply(lambda x: np.log(x+1))\n",
    "    return series"
   ]
  },
  {
   "cell_type": "markdown",
   "metadata": {},
   "source": [
    "## 6. Prediction"
   ]
  },
  {
   "cell_type": "code",
   "execution_count": 451,
   "metadata": {},
   "outputs": [],
   "source": [
    "from sklearn.model_selection import KFold, GridSearchCV, RandomizedSearchCV, train_test_split\n",
    "from sklearn.pipeline import Pipeline\n",
    "from sklearn.compose import ColumnTransformer\n",
    "from sklearn.preprocessing import StandardScaler, MinMaxScaler, RobustScaler, OneHotEncoder\n",
    "from sklearn.decomposition import TruncatedSVD\n",
    "from sklearn.base import clone, TransformerMixin\n",
    "from sklearn.linear_model import LinearRegression\n",
    "from sklearn.compose import ColumnTransformer, make_column_transformer"
   ]
  },
  {
   "cell_type": "code",
   "execution_count": 452,
   "metadata": {},
   "outputs": [],
   "source": [
    "models_scores = {}"
   ]
  },
  {
   "cell_type": "markdown",
   "metadata": {},
   "source": [
    "#### Linear Regression"
   ]
  },
  {
   "cell_type": "code",
   "execution_count": 489,
   "metadata": {},
   "outputs": [],
   "source": [
    "def linear_regression_1(df, n_folds):\n",
    "    print('Model 1: Standard Scaler + Linear Regression')\n",
    "    numeric_features = ['session_durantion']\n",
    "    categorical_features = ['locale', 'hour_of_day', 'day_of_week', 'agent_id', 'entry_page', 'traffic_type']\n",
    "\n",
    "    numeric_transformer = Pipeline(steps=[\n",
    "        ('standard', StandardScaler())])\n",
    "    \n",
    "    categorical_transformer = Pipeline(steps=[\n",
    "    ('onehot', OneHotEncoder(handle_unknown='ignore')),\n",
    "    #('dim_reducer', TruncatedSVD(100, random_state=0))\n",
    "    ])\n",
    "    \n",
    "    preprocessor = ColumnTransformer(\n",
    "    transformers=[\n",
    "        ('num', numeric_transformer, numeric_features),\n",
    "        ('cat', categorical_transformer, categorical_features)])\n",
    "    \n",
    "    clf = Pipeline(steps=[('preprocessor', preprocessor),\n",
    "                      ('linear_regression', LinearRegression())])\n",
    "    \n",
    "    X = df.drop(columns=['row_num', 'hits', 'path_id_set'])\n",
    "    y = df['hits']\n",
    "    \n",
    "    \n",
    "    kf = KFold(n_splits=2)\n",
    "    kf.get_n_splits(X)\n",
    "    \n",
    "    rmse_kfold_test = []\n",
    "    rmse_kfold_train = []\n",
    "    for train_index, test_index in kf.split(X,y):\n",
    "        #print(\"TRAIN:\", train_index, \"TEST:\", test_index)\n",
    "        X_train, X_test = X.iloc[train_index], X.iloc[test_index]\n",
    "        y_train, y_test = y.iloc[train_index], y.iloc[test_index]\n",
    "        clf.fit(X_train, y_train)\n",
    "        y_pred_test = clf.predict(X_test)\n",
    "        y_pred_train = clf.predict(X_train)\n",
    "        rmse_kfold_test.append(root_mean_squared_error(y_test, np.round(np.maximum(y_pred_test, 0))))\n",
    "        rmse_kfold_train.append(root_mean_squared_error(y_train, np.round(np.maximum(y_pred_train, 0))))\n",
    "        \n",
    "    avg_rmse_kfold_train = sum(rmse_kfold_train) / len(rmse_kfold_train)\n",
    "    avg_rmse_kfold_test = sum(rmse_kfold_test) / len(rmse_kfold_test)\n",
    "    \n",
    "    print('RMSE train:', avg_rmse_kfold_train)\n",
    "    print('RMSE test:', avg_rmse_kfold_test)\n",
    "    \n",
    "    return avg_rmse_kfold_train, avg_rmse_kfold_test"
   ]
  },
  {
   "cell_type": "code",
   "execution_count": 490,
   "metadata": {},
   "outputs": [
    {
     "name": "stdout",
     "output_type": "stream",
     "text": [
      "Model 1: Standard Scaler + Linear Regression\n",
      "RMSE train: 15.70555315656053\n",
      "RMSE test: 15.71879590305874\n"
     ]
    }
   ],
   "source": [
    "models_scores['model_1'] = linear_regression_1(train, 2)"
   ]
  },
  {
   "cell_type": "code",
   "execution_count": null,
   "metadata": {},
   "outputs": [],
   "source": [
    "RMSE train: 15.709262184319122\n",
    "RMSE test: 15.718259756051802"
   ]
  },
  {
   "cell_type": "code",
   "execution_count": 445,
   "metadata": {},
   "outputs": [],
   "source": [
    "def linear_regression_2(df, n_folds):\n",
    "    print('Model 2: MinMax Scaler + Linear Regression')\n",
    "    numeric_features = ['session_durantion']\n",
    "    categorical_features = ['locale', 'hour_of_day', 'day_of_week', 'agent_id', 'entry_page', 'traffic_type']\n",
    "\n",
    "    numeric_transformer = Pipeline(steps=[\n",
    "        ('minmax', MinMaxScaler())])\n",
    "    \n",
    "    categorical_transformer = Pipeline(steps=[\n",
    "    ('onehot', OneHotEncoder(handle_unknown='ignore'))])\n",
    "    \n",
    "    preprocessor = ColumnTransformer(\n",
    "    transformers=[\n",
    "        ('num', numeric_transformer, numeric_features),\n",
    "        ('cat', categorical_transformer, categorical_features)])\n",
    "    \n",
    "    clf = Pipeline(steps=[('preprocessor', preprocessor),\n",
    "                      ('linear_regression', LinearRegression())])\n",
    "    \n",
    "    X = df.drop(columns=['row_num', 'hits', 'path_id_set'])\n",
    "    y = df['hits']\n",
    "    \n",
    "    #X['session_durantion'] = 0\n",
    "    \n",
    "    kf = KFold(n_splits=2)\n",
    "    kf.get_n_splits(X)\n",
    "    \n",
    "    rmse_kfold_test = []\n",
    "    rmse_kfold_train = []\n",
    "    for train_index, test_index in kf.split(X,y):\n",
    "        #print(\"TRAIN:\", train_index, \"TEST:\", test_index)\n",
    "        X_train, X_test = X.iloc[train_index], X.iloc[test_index]\n",
    "        y_train, y_test = y.iloc[train_index], y.iloc[test_index]\n",
    "        clf.fit(X_train, y_train)\n",
    "        y_pred_test = clf.predict(X_test)\n",
    "        y_pred_train = clf.predict(X_train)\n",
    "        rmse_kfold_test.append(root_mean_squared_error(y_test, np.round(np.maximum(y_pred_test, 0))))\n",
    "        rmse_kfold_train.append(root_mean_squared_error(y_train, np.round(np.maximum(y_pred_train, 0))))\n",
    "        \n",
    "    avg_rmse_kfold_train = sum(rmse_kfold_train) / len(rmse_kfold_train)\n",
    "    avg_rmse_kfold_test = sum(rmse_kfold_test) / len(rmse_kfold_test)\n",
    "    \n",
    "    print('RMSE train:', avg_rmse_kfold_train)\n",
    "    print('RMSE test:', avg_rmse_kfold_test)\n",
    "    \n",
    "    return avg_rmse_kfold_train, avg_rmse_kfold_test\n",
    "    "
   ]
  },
  {
   "cell_type": "code",
   "execution_count": 446,
   "metadata": {},
   "outputs": [
    {
     "name": "stdout",
     "output_type": "stream",
     "text": [
      "Model 2: MinMax Scaler + Linear Regression\n"
     ]
    },
    {
     "name": "stderr",
     "output_type": "stream",
     "text": [
      "c:\\users\\najib\\appdata\\local\\programs\\python\\python37\\lib\\site-packages\\sklearn\\preprocessing\\data.py:323: DataConversionWarning: Data with input dtype int64 were all converted to float64 by MinMaxScaler.\n",
      "  return self.partial_fit(X, y)\n",
      "c:\\users\\najib\\appdata\\local\\programs\\python\\python37\\lib\\site-packages\\sklearn\\preprocessing\\data.py:323: DataConversionWarning: Data with input dtype int64 were all converted to float64 by MinMaxScaler.\n",
      "  return self.partial_fit(X, y)\n"
     ]
    },
    {
     "name": "stdout",
     "output_type": "stream",
     "text": [
      "RMSE train: 17.425932594134856\n",
      "RMSE test: 17.44263616583973\n"
     ]
    }
   ],
   "source": [
    "models_scores['model_2'] = linear_regression_2(train, 2)"
   ]
  },
  {
   "cell_type": "code",
   "execution_count": 338,
   "metadata": {},
   "outputs": [],
   "source": [
    "def linear_regression_3(df, n_folds):\n",
    "    print('Model 3: Robust Scaler + Linear Regression')\n",
    "    numeric_features = ['session_durantion']\n",
    "    categorical_features = ['locale', 'hour_of_day', 'day_of_week', 'agent_id', 'entry_page', 'traffic_type']\n",
    "\n",
    "    numeric_transformer = Pipeline(steps=[\n",
    "        ('robust_scaler', RobustScaler())])\n",
    "    \n",
    "    categorical_transformer = Pipeline(steps=[\n",
    "    ('onehot', OneHotEncoder(handle_unknown='ignore'))])\n",
    "    \n",
    "    preprocessor = ColumnTransformer(\n",
    "    transformers=[\n",
    "        ('num', numeric_transformer, numeric_features),\n",
    "        ('cat', categorical_transformer, categorical_features)])\n",
    "    \n",
    "    clf = Pipeline(steps=[('preprocessor', preprocessor),\n",
    "                      ('linear_regression', LinearRegression())])\n",
    "    \n",
    "    X = df.drop(columns=['row_num', 'hits', 'path_id_set'])\n",
    "    y = df['hits']\n",
    "    \n",
    "    kf = KFold(n_splits=2)\n",
    "    kf.get_n_splits(X)\n",
    "    \n",
    "    rmse_kfold_test = []\n",
    "    rmse_kfold_train = []\n",
    "    for train_index, test_index in kf.split(X,y):\n",
    "        #print(\"TRAIN:\", train_index, \"TEST:\", test_index)\n",
    "        X_train, X_test = X.iloc[train_index], X.iloc[test_index]\n",
    "        y_train, y_test = y.iloc[train_index], y.iloc[test_index]\n",
    "        clf.fit(X_train, y_train)\n",
    "        y_pred_test = clf.predict(X_test)\n",
    "        y_pred_train = clf.predict(X_train)\n",
    "        rmse_kfold_test.append(root_mean_squared_error(y_test, np.round(np.maximum(y_pred_test, 0))))\n",
    "        rmse_kfold_train.append(root_mean_squared_error(y_train, np.round(np.maximum(y_pred_train, 0))))\n",
    "        \n",
    "    avg_rmse_kfold_train = sum(rmse_kfold_train) / len(rmse_kfold_train)\n",
    "    avg_rmse_kfold_test = sum(rmse_kfold_test) / len(rmse_kfold_test)\n",
    "    \n",
    "    print('RMSE train:', avg_rmse_kfold_train)\n",
    "    print('RMSE test:', avg_rmse_kfold_test)\n",
    "    \n",
    "    return avg_rmse_kfold_train, avg_rmse_kfold_test\n",
    "    "
   ]
  },
  {
   "cell_type": "code",
   "execution_count": 339,
   "metadata": {},
   "outputs": [
    {
     "name": "stdout",
     "output_type": "stream",
     "text": [
      "Model 3: Robust Scaler + Linear Regression\n",
      "RMSE train: 15.705601817105908\n",
      "RMSE test: 15.718880293670411\n"
     ]
    }
   ],
   "source": [
    "models_scores['model_3'] = linear_regression_3(train, 2)"
   ]
  },
  {
   "cell_type": "code",
   "execution_count": 431,
   "metadata": {},
   "outputs": [],
   "source": [
    "def linear_regression_4(df, n_folds):\n",
    "    print('Model 4: Log Transformation + Linear Regression')\n",
    "    categorical_features = ['locale', 'hour_of_day', 'day_of_week', 'agent_id', 'entry_page', 'traffic_type']\n",
    "    \n",
    "    categorical_transformer = Pipeline(steps=[\n",
    "    ('onehot', OneHotEncoder(handle_unknown='ignore'))])\n",
    "    \n",
    "    preprocessor = ColumnTransformer(\n",
    "    transformers=[\n",
    "        ('cat', categorical_transformer, categorical_features)])\n",
    "    \n",
    "    clf = Pipeline(steps=[('preprocessor', preprocessor),\n",
    "                      ('linear_regression', LinearRegression())])\n",
    "    \n",
    "    X = df.drop(columns=['row_num', 'hits', 'path_id_set'])\n",
    "    y = df['hits']\n",
    "    \n",
    "    X['session_durantion'] = log_transformation(X['session_durantion'])\n",
    "    \n",
    "    kf = KFold(n_splits=n_folds)\n",
    "    kf.get_n_splits(X)\n",
    "    \n",
    "    rmse_kfold_test = []\n",
    "    rmse_kfold_train = []\n",
    "    for train_index, test_index in kf.split(X,y):\n",
    "        #print(\"TRAIN:\", train_index, \"TEST:\", test_index)\n",
    "        X_train, X_test = X.iloc[train_index], X.iloc[test_index]\n",
    "        y_train, y_test = y.iloc[train_index], y.iloc[test_index]\n",
    "        clf.fit(X_train, y_train)\n",
    "        y_pred_test = clf.predict(X_test)\n",
    "        y_pred_train = clf.predict(X_train)\n",
    "        rmse_kfold_test.append(root_mean_squared_error(y_test, np.round(np.maximum(y_pred_test, 0))))\n",
    "        rmse_kfold_train.append(root_mean_squared_error(y_train, np.round(np.maximum(y_pred_train, 0))))\n",
    "        \n",
    "    avg_rmse_kfold_train = sum(rmse_kfold_train) / len(rmse_kfold_train)\n",
    "    avg_rmse_kfold_test = sum(rmse_kfold_test) / len(rmse_kfold_test)\n",
    "    \n",
    "    print('RMSE train:', avg_rmse_kfold_train)\n",
    "    print('RMSE test:', avg_rmse_kfold_test)\n",
    "    \n",
    "    return avg_rmse_kfold_train, avg_rmse_kfold_test"
   ]
  },
  {
   "cell_type": "code",
   "execution_count": 432,
   "metadata": {},
   "outputs": [
    {
     "name": "stdout",
     "output_type": "stream",
     "text": [
      "Model 4: Log Transformation + Linear Regression\n",
      "RMSE train: 17.425932755512918\n",
      "RMSE test: 17.442615519319553\n"
     ]
    }
   ],
   "source": [
    "models_scores['model_4'] = linear_regression_4(train, 2)"
   ]
  },
  {
   "cell_type": "code",
   "execution_count": null,
   "metadata": {},
   "outputs": [],
   "source": [
    "RMSE train: 18.872540112024872\n",
    "RMSE test: 18.872540112024872"
   ]
  },
  {
   "cell_type": "code",
   "execution_count": null,
   "metadata": {},
   "outputs": [],
   "source": []
  },
  {
   "cell_type": "code",
   "execution_count": null,
   "metadata": {},
   "outputs": [],
   "source": []
  },
  {
   "cell_type": "code",
   "execution_count": 413,
   "metadata": {},
   "outputs": [],
   "source": [
    "def linear_regression_4(df, n_folds):\n",
    "    print('Model 4: Log Transformation + Linear Regression')\n",
    "    \n",
    "    \n",
    "    X = df.drop(columns=['row_num', 'hits', 'path_id_set'])\n",
    "    #X = X[['session_durantion', 'locale_L2']]\n",
    "    y = df['hits']\n",
    "    \n",
    "    X['session_durantion'] = min_max(X['session_durantion'].astype('float64'))\n",
    "    \n",
    "    kf = KFold(n_splits=2)\n",
    "    kf.get_n_splits(X)\n",
    "    \n",
    "    reg = LinearRegression()\n",
    "    \n",
    "    rmse_kfold_test = []\n",
    "    rmse_kfold_train = []\n",
    "    for train_index, test_index in kf.split(X,y):\n",
    "        #print(\"TRAIN:\", train_index, \"TEST:\", test_index)\n",
    "        X_train, X_test = X.iloc[train_index], X.iloc[test_index]\n",
    "        y_train, y_test = y.iloc[train_index], y.iloc[test_index]\n",
    "        reg.fit(X_train, y_train)\n",
    "        y_pred_test = reg.predict(X_test)\n",
    "        y_pred_train = reg.predict(X_train)\n",
    "        rmse_kfold_test.append(root_mean_squared_error(y_test, np.round(np.maximum(y_pred_test, 0))))\n",
    "        rmse_kfold_train.append(root_mean_squared_error(y_train, np.round(np.maximum(y_pred_train, 0))))\n",
    "        \n",
    "    avg_rmse_kfold_train = sum(rmse_kfold_train) / len(rmse_kfold_train)\n",
    "    avg_rmse_kfold_test = sum(rmse_kfold_test) / len(rmse_kfold_test)\n",
    "    \n",
    "    print('RMSE train:', avg_rmse_kfold_train)\n",
    "    print('RMSE test:', avg_rmse_kfold_test)\n",
    "    \n",
    "    return avg_rmse_kfold_train, avg_rmse_kfold_test, y_test, y_pred_test, y_train, y_pred_train"
   ]
  },
  {
   "cell_type": "code",
   "execution_count": null,
   "metadata": {},
   "outputs": [],
   "source": []
  },
  {
   "cell_type": "code",
   "execution_count": 411,
   "metadata": {},
   "outputs": [
    {
     "data": {
      "text/plain": [
       "array(['5', '2', '25', ..., '2', '1', '1'], dtype=object)"
      ]
     },
     "execution_count": 411,
     "metadata": {},
     "output_type": "execute_result"
    }
   ],
   "source": [
    "np.array(c)"
   ]
  },
  {
   "cell_type": "code",
   "execution_count": 412,
   "metadata": {},
   "outputs": [
    {
     "data": {
      "text/plain": [
       "array([17.91015625, 20.65722656, 21.65136719, ...,  4.62402344,\n",
       "       17.51269531, 15.17480469])"
      ]
     },
     "execution_count": 412,
     "metadata": {},
     "output_type": "execute_result"
    }
   ],
   "source": [
    "d"
   ]
  },
  {
   "cell_type": "code",
   "execution_count": 414,
   "metadata": {},
   "outputs": [
    {
     "name": "stdout",
     "output_type": "stream",
     "text": [
      "Model 4: Log Transformation + Linear Regression\n",
      "RMSE train: 15.705577753777156\n",
      "RMSE test: 39027898441.11595\n"
     ]
    }
   ],
   "source": [
    "a,b,c,d,e,f = linear_regression_4(t, 2)"
   ]
  },
  {
   "cell_type": "code",
   "execution_count": null,
   "metadata": {},
   "outputs": [],
   "source": [
    "columnsToEncode=X.select_dtypes(include=[object]).columns\n",
    "X = pd.get_dummies(X, columns=columnsToEncode, drop_first=True)"
   ]
  },
  {
   "cell_type": "code",
   "execution_count": null,
   "metadata": {},
   "outputs": [],
   "source": []
  },
  {
   "cell_type": "code",
   "execution_count": 372,
   "metadata": {},
   "outputs": [],
   "source": [
    "columnsToEncode = ['locale', 'hour_of_day', 'day_of_week', 'agent_id', 'entry_page', 'traffic_type']\n",
    "t = pd.get_dummies(train.astype(str), columns=columnsToEncode)"
   ]
  },
  {
   "cell_type": "markdown",
   "metadata": {},
   "source": [
    "#### Decision Tree"
   ]
  },
  {
   "cell_type": "markdown",
   "metadata": {},
   "source": [
    "#### Random Forest"
   ]
  },
  {
   "cell_type": "markdown",
   "metadata": {},
   "source": [
    "#### XGB Regressor"
   ]
  },
  {
   "cell_type": "markdown",
   "metadata": {},
   "source": [
    "## 7. Evalution"
   ]
  },
  {
   "cell_type": "code",
   "execution_count": 284,
   "metadata": {},
   "outputs": [],
   "source": [
    "from sklearn.metrics import mean_squared_error\n",
    "from math import sqrt\n",
    "\n",
    "def root_mean_squared_error(y_actual, y_pred):\n",
    "    rmse = sqrt(mean_squared_error(y_actual, y_pred))\n",
    "    return rmse"
   ]
  },
  {
   "cell_type": "code",
   "execution_count": 689,
   "metadata": {},
   "outputs": [
    {
     "data": {
      "text/plain": [
       "15.705766190412767"
      ]
     },
     "execution_count": 689,
     "metadata": {},
     "output_type": "execute_result"
    }
   ],
   "source": [
    "root_mean_squared_error(y, y_pred)"
   ]
  },
  {
   "cell_type": "markdown",
   "metadata": {},
   "source": [
    "## Conclusion"
   ]
  },
  {
   "cell_type": "code",
   "execution_count": null,
   "metadata": {},
   "outputs": [],
   "source": []
  }
 ],
 "metadata": {
  "kernelspec": {
   "display_name": "Python 3",
   "language": "python",
   "name": "python3"
  },
  "language_info": {
   "codemirror_mode": {
    "name": "ipython",
    "version": 3
   },
   "file_extension": ".py",
   "mimetype": "text/x-python",
   "name": "python",
   "nbconvert_exporter": "python",
   "pygments_lexer": "ipython3",
   "version": "3.7.1"
  }
 },
 "nbformat": 4,
 "nbformat_minor": 2
}
